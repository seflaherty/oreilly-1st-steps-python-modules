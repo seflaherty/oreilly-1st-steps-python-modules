{
 "cells": [
  {
   "cell_type": "markdown",
   "metadata": {},
   "source": [
    "# Agenda\n",
    "\n",
    "1. What are modules?\n",
    "2. How do we `import` from a module into Python?\n",
    "3. Different types of imports\n",
    "4. Creating our own modules\n",
    "5. Python standard library\n",
    "6. Packages vs. modules\n",
    "7. PyPI and installing things\n",
    "8. `pip`"
   ]
  },
  {
   "cell_type": "markdown",
   "metadata": {},
   "source": [
    "# DRY -- don't repeat yourself\n",
    "\n",
    "1. If I have the same code several lines in a row, then I can combine them into a loop\n",
    "2. If I have the same code in several places in my program, then I can write a function.\n",
    "3. If I have the same code in several different programs, then I need a *library*."
   ]
  },
  {
   "source": [
    "# In Python, we call our libraries \"modules.\""
   ],
   "cell_type": "markdown",
   "metadata": {}
  },
  {
   "source": [
    "# Modules also provide us with \"namespaces.\""
   ],
   "cell_type": "markdown",
   "metadata": {}
  },
  {
   "source": [
    "# Let's say that I want a random integer between 0 and 100"
   ],
   "cell_type": "markdown",
   "metadata": {}
  },
  {
   "cell_type": "code",
   "execution_count": 3,
   "metadata": {},
   "outputs": [],
   "source": [
    "# If I want to get a random number, I can use the \"random\" module that\n",
    "# comes with Python\n",
    "\n",
    "# To load the \"random\" module, I'll use the \"import\" statement\n",
    "import random"
   ]
  },
  {
   "cell_type": "markdown",
   "metadata": {},
   "source": [
    "# The `import` statement\n",
    "\n",
    "- It is *not* a function! It is a statement/keyword.  It's built into Python.\n",
    "- It is not a function, so we don't use parentheses with it.\n",
    "- The name that you give as an argument to `import` is the name of the module that you want to define.\n",
    "\n",
    "In the above code, I told Python to define a new variable, `random`, which will refer to an object of type module."
   ]
  },
  {
   "cell_type": "code",
   "execution_count": 5,
   "metadata": {},
   "outputs": [],
   "source": [
    "def hello(name):\n",
    "    return f'Hello, {name}!'"
   ]
  },
  {
   "source": [
    "# Where are the contents of this module object, which we're going to create\n",
    "# and assign to \"random\", coming from?"
   ],
   "cell_type": "markdown",
   "metadata": {}
  },
  {
   "source": [
    "# I'm telling Python to look for a file named \"random.py\"\n",
    "\n",
    "# After I've imported random, what do I have?"
   ],
   "cell_type": "markdown",
   "metadata": {}
  },
  {
   "cell_type": "code",
   "execution_count": 7,
   "metadata": {},
   "outputs": [
    {
     "output_type": "execute_result",
     "data": {
      "text/plain": [
       "<module 'random' from '/Users/sean/.pyenv/versions/3.9.2/lib/python3.9/random.py'>"
      ]
     },
     "metadata": {},
     "execution_count": 7
    }
   ],
   "source": [
    "random"
   ]
  },
  {
   "cell_type": "code",
   "execution_count": 8,
   "metadata": {},
   "outputs": [
    {
     "output_type": "execute_result",
     "data": {
      "text/plain": [
       "module"
      ]
     },
     "metadata": {},
     "execution_count": 8
    }
   ],
   "source": [
    "type(random)"
   ]
  },
  {
   "cell_type": "code",
   "execution_count": 9,
   "metadata": {},
   "outputs": [
    {
     "output_type": "execute_result",
     "data": {
      "text/plain": [
       "function"
      ]
     },
     "metadata": {},
     "execution_count": 9
    }
   ],
   "source": [
    "type(hello)"
   ]
  },
  {
   "source": [
    "# If a module is a container for other data, what does a module contain?\n"
   ],
   "cell_type": "markdown",
   "metadata": {}
  },
  {
   "source": [
    "# the things defined on a module are available as \"attributes\"\n",
    "# every object in Python has attributes; they are the things after dots.\n",
    "\n",
    "# so if we have a.b, then a is a variable and b is an attribute of a"
   ],
   "cell_type": "markdown",
   "metadata": {}
  },
  {
   "cell_type": "code",
   "execution_count": 10,
   "metadata": {},
   "outputs": [
    {
     "output_type": "execute_result",
     "data": {
      "text/plain": [
       "['BPF',\n",
       " 'LOG4',\n",
       " 'NV_MAGICCONST',\n",
       " 'RECIP_BPF',\n",
       " 'Random',\n",
       " 'SG_MAGICCONST',\n",
       " 'SystemRandom',\n",
       " 'TWOPI',\n",
       " '_Sequence',\n",
       " '_Set',\n",
       " '__all__',\n",
       " '__builtins__',\n",
       " '__cached__',\n",
       " '__doc__',\n",
       " '__file__',\n",
       " '__loader__',\n",
       " '__name__',\n",
       " '__package__',\n",
       " '__spec__',\n",
       " '_accumulate',\n",
       " '_acos',\n",
       " '_bisect',\n",
       " '_ceil',\n",
       " '_cos',\n",
       " '_e',\n",
       " '_exp',\n",
       " '_floor',\n",
       " '_inst',\n",
       " '_log',\n",
       " '_os',\n",
       " '_pi',\n",
       " '_random',\n",
       " '_repeat',\n",
       " '_sha512',\n",
       " '_sin',\n",
       " '_sqrt',\n",
       " '_test',\n",
       " '_test_generator',\n",
       " '_urandom',\n",
       " '_warn',\n",
       " 'betavariate',\n",
       " 'choice',\n",
       " 'choices',\n",
       " 'expovariate',\n",
       " 'gammavariate',\n",
       " 'gauss',\n",
       " 'getrandbits',\n",
       " 'getstate',\n",
       " 'lognormvariate',\n",
       " 'normalvariate',\n",
       " 'paretovariate',\n",
       " 'randbytes',\n",
       " 'randint',\n",
       " 'random',\n",
       " 'randrange',\n",
       " 'sample',\n",
       " 'seed',\n",
       " 'setstate',\n",
       " 'shuffle',\n",
       " 'triangular',\n",
       " 'uniform',\n",
       " 'vonmisesvariate',\n",
       " 'weibullvariate']"
      ]
     },
     "metadata": {},
     "execution_count": 10
    }
   ],
   "source": [
    "# get a list of attributes on an object with \"dir\"\n",
    "dir(random)"
   ]
  },
  {
   "cell_type": "code",
   "execution_count": 11,
   "metadata": {
    "tags": [
     "outputPrepend"
    ]
   },
   "outputs": [
    {
     "output_type": "stream",
     "name": "stdout",
     "text": [
      "hanged.  The resulting list is\n     |      in selection order so that all sub-slices will also be valid random\n     |      samples.  This allows raffle winners (the sample) to be partitioned\n     |      into grand prize and second place winners (the subslices).\n     |      \n     |      Members of the population need not be hashable or unique.  If the\n     |      population contains repeats, then each occurrence is a possible\n     |      selection in the sample.\n     |      \n     |      Repeated elements can be specified one at a time or with the optional\n     |      counts parameter.  For example:\n     |      \n     |          sample(['red', 'blue'], counts=[4, 2], k=5)\n     |      \n     |      is equivalent to:\n     |      \n     |          sample(['red', 'red', 'red', 'red', 'blue', 'blue'], k=5)\n     |      \n     |      To choose a sample from a range of integers, use range() for the\n     |      population argument.  This is especially fast and space efficient\n     |      for sampling from a large population:\n     |      \n     |          sample(range(10000000), 60)\n     |  \n     |  seed(self, a=None, version=2)\n     |      Initialize internal state from a seed.\n     |      \n     |      The only supported seed types are None, int, float,\n     |      str, bytes, and bytearray.\n     |      \n     |      None or no argument seeds from current time or from an operating\n     |      system specific randomness source if available.\n     |      \n     |      If *a* is an int, all bits are used.\n     |      \n     |      For version 2 (the default), all of the bits are used if *a* is a str,\n     |      bytes, or bytearray.  For version 1 (provided for reproducing random\n     |      sequences from older versions of Python), the algorithm for str and\n     |      bytes generates a narrower range of seeds.\n     |  \n     |  setstate(self, state)\n     |      Restore internal state from object returned by getstate().\n     |  \n     |  shuffle(self, x, random=None)\n     |      Shuffle list x in place, and return None.\n     |      \n     |      Optional argument random is a 0-argument function returning a\n     |      random float in [0.0, 1.0); if it is the default None, the\n     |      standard random.random will be used.\n     |  \n     |  triangular(self, low=0.0, high=1.0, mode=None)\n     |      Triangular distribution.\n     |      \n     |      Continuous distribution bounded by given lower and upper limits,\n     |      and having a given mode value in-between.\n     |      \n     |      http://en.wikipedia.org/wiki/Triangular_distribution\n     |  \n     |  uniform(self, a, b)\n     |      Get a random number in the range [a, b) or [a, b] depending on rounding.\n     |  \n     |  vonmisesvariate(self, mu, kappa)\n     |      Circular data distribution.\n     |      \n     |      mu is the mean angle, expressed in radians between 0 and 2*pi, and\n     |      kappa is the concentration parameter, which must be greater than or\n     |      equal to zero.  If kappa is equal to zero, this distribution reduces\n     |      to a uniform random angle over the range 0 to 2*pi.\n     |  \n     |  weibullvariate(self, alpha, beta)\n     |      Weibull distribution.\n     |      \n     |      alpha is the scale parameter and beta is the shape parameter.\n     |  \n     |  ----------------------------------------------------------------------\n     |  Class methods defined here:\n     |  \n     |  __init_subclass__(**kwargs) from builtins.type\n     |      Control how subclasses generate random integers.\n     |      \n     |      The algorithm a subclass can use depends on the random() and/or\n     |      getrandbits() implementation available to it and determines\n     |      whether it can generate random integers from arbitrarily large\n     |      ranges.\n     |  \n     |  ----------------------------------------------------------------------\n     |  Data descriptors defined here:\n     |  \n     |  __dict__\n     |      dictionary for instance variables (if defined)\n     |  \n     |  __weakref__\n     |      list of weak references to the object (if defined)\n     |  \n     |  ----------------------------------------------------------------------\n     |  Data and other attributes defined here:\n     |  \n     |  VERSION = 3\n     |  \n     |  ----------------------------------------------------------------------\n     |  Methods inherited from _random.Random:\n     |  \n     |  getrandbits(self, k, /)\n     |      getrandbits(k) -> x.  Generates an int with k random bits.\n     |  \n     |  random(self, /)\n     |      random() -> x in the interval [0, 1).\n     |  \n     |  ----------------------------------------------------------------------\n     |  Static methods inherited from _random.Random:\n     |  \n     |  __new__(*args, **kwargs) from builtins.type\n     |      Create and return a new object.  See help(type) for accurate signature.\n    \n    class SystemRandom(Random)\n     |  SystemRandom(x=None)\n     |  \n     |  Alternate random number generator using sources provided\n     |  by the operating system (such as /dev/urandom on Unix or\n     |  CryptGenRandom on Windows).\n     |  \n     |   Not available on all systems (see os.urandom() for details).\n     |  \n     |  Method resolution order:\n     |      SystemRandom\n     |      Random\n     |      _random.Random\n     |      builtins.object\n     |  \n     |  Methods defined here:\n     |  \n     |  getrandbits(self, k)\n     |      getrandbits(k) -> x.  Generates an int with k random bits.\n     |  \n     |  getstate = _notimplemented(self, *args, **kwds)\n     |  \n     |  randbytes(self, n)\n     |      Generate n random bytes.\n     |  \n     |  random(self)\n     |      Get the next random number in the range [0.0, 1.0).\n     |  \n     |  seed(self, *args, **kwds)\n     |      Stub method.  Not used for a system random number generator.\n     |  \n     |  setstate = _notimplemented(self, *args, **kwds)\n     |  \n     |  ----------------------------------------------------------------------\n     |  Methods inherited from Random:\n     |  \n     |  __getstate__(self)\n     |      # Issue 17489: Since __reduce__ was defined to fix #759889 this is no\n     |      # longer called; we leave it here because it has been here since random was\n     |      # rewritten back in 2001 and why risk breaking something.\n     |  \n     |  __init__(self, x=None)\n     |      Initialize an instance.\n     |      \n     |      Optional argument x controls seeding, as for Random.seed().\n     |  \n     |  __reduce__(self)\n     |      Helper for pickle.\n     |  \n     |  __setstate__(self, state)\n     |  \n     |  betavariate(self, alpha, beta)\n     |      Beta distribution.\n     |      \n     |      Conditions on the parameters are alpha > 0 and beta > 0.\n     |      Returned values range between 0 and 1.\n     |  \n     |  choice(self, seq)\n     |      Choose a random element from a non-empty sequence.\n     |  \n     |  choices(self, population, weights=None, *, cum_weights=None, k=1)\n     |      Return a k sized list of population elements chosen with replacement.\n     |      \n     |      If the relative weights or cumulative weights are not specified,\n     |      the selections are made with equal probability.\n     |  \n     |  expovariate(self, lambd)\n     |      Exponential distribution.\n     |      \n     |      lambd is 1.0 divided by the desired mean.  It should be\n     |      nonzero.  (The parameter would be called \"lambda\", but that is\n     |      a reserved word in Python.)  Returned values range from 0 to\n     |      positive infinity if lambd is positive, and from negative\n     |      infinity to 0 if lambd is negative.\n     |  \n     |  gammavariate(self, alpha, beta)\n     |      Gamma distribution.  Not the gamma function!\n     |      \n     |      Conditions on the parameters are alpha > 0 and beta > 0.\n     |      \n     |      The probability distribution function is:\n     |      \n     |                  x ** (alpha - 1) * math.exp(-x / beta)\n     |        pdf(x) =  --------------------------------------\n     |                    math.gamma(alpha) * beta ** alpha\n     |  \n     |  gauss(self, mu, sigma)\n     |      Gaussian distribution.\n     |      \n     |      mu is the mean, and sigma is the standard deviation.  This is\n     |      slightly faster than the normalvariate() function.\n     |      \n     |      Not thread-safe without a lock around calls.\n     |  \n     |  lognormvariate(self, mu, sigma)\n     |      Log normal distribution.\n     |      \n     |      If you take the natural logarithm of this distribution, you'll get a\n     |      normal distribution with mean mu and standard deviation sigma.\n     |      mu can have any value, and sigma must be greater than zero.\n     |  \n     |  normalvariate(self, mu, sigma)\n     |      Normal distribution.\n     |      \n     |      mu is the mean, and sigma is the standard deviation.\n     |  \n     |  paretovariate(self, alpha)\n     |      Pareto distribution.  alpha is the shape parameter.\n     |  \n     |  randint(self, a, b)\n     |      Return random integer in range [a, b], including both end points.\n     |  \n     |  randrange(self, start, stop=None, step=1)\n     |      Choose a random item from range(start, stop[, step]).\n     |      \n     |      This fixes the problem with randint() which includes the\n     |      endpoint; in Python this is usually not what you want.\n     |  \n     |  sample(self, population, k, *, counts=None)\n     |      Chooses k unique random elements from a population sequence or set.\n     |      \n     |      Returns a new list containing elements from the population while\n     |      leaving the original population unchanged.  The resulting list is\n     |      in selection order so that all sub-slices will also be valid random\n     |      samples.  This allows raffle winners (the sample) to be partitioned\n     |      into grand prize and second place winners (the subslices).\n     |      \n     |      Members of the population need not be hashable or unique.  If the\n     |      population contains repeats, then each occurrence is a possible\n     |      selection in the sample.\n     |      \n     |      Repeated elements can be specified one at a time or with the optional\n     |      counts parameter.  For example:\n     |      \n     |          sample(['red', 'blue'], counts=[4, 2], k=5)\n     |      \n     |      is equivalent to:\n     |      \n     |          sample(['red', 'red', 'red', 'red', 'blue', 'blue'], k=5)\n     |      \n     |      To choose a sample from a range of integers, use range() for the\n     |      population argument.  This is especially fast and space efficient\n     |      for sampling from a large population:\n     |      \n     |          sample(range(10000000), 60)\n     |  \n     |  shuffle(self, x, random=None)\n     |      Shuffle list x in place, and return None.\n     |      \n     |      Optional argument random is a 0-argument function returning a\n     |      random float in [0.0, 1.0); if it is the default None, the\n     |      standard random.random will be used.\n     |  \n     |  triangular(self, low=0.0, high=1.0, mode=None)\n     |      Triangular distribution.\n     |      \n     |      Continuous distribution bounded by given lower and upper limits,\n     |      and having a given mode value in-between.\n     |      \n     |      http://en.wikipedia.org/wiki/Triangular_distribution\n     |  \n     |  uniform(self, a, b)\n     |      Get a random number in the range [a, b) or [a, b] depending on rounding.\n     |  \n     |  vonmisesvariate(self, mu, kappa)\n     |      Circular data distribution.\n     |      \n     |      mu is the mean angle, expressed in radians between 0 and 2*pi, and\n     |      kappa is the concentration parameter, which must be greater than or\n     |      equal to zero.  If kappa is equal to zero, this distribution reduces\n     |      to a uniform random angle over the range 0 to 2*pi.\n     |  \n     |  weibullvariate(self, alpha, beta)\n     |      Weibull distribution.\n     |      \n     |      alpha is the scale parameter and beta is the shape parameter.\n     |  \n     |  ----------------------------------------------------------------------\n     |  Class methods inherited from Random:\n     |  \n     |  __init_subclass__(**kwargs) from builtins.type\n     |      Control how subclasses generate random integers.\n     |      \n     |      The algorithm a subclass can use depends on the random() and/or\n     |      getrandbits() implementation available to it and determines\n     |      whether it can generate random integers from arbitrarily large\n     |      ranges.\n     |  \n     |  ----------------------------------------------------------------------\n     |  Data descriptors inherited from Random:\n     |  \n     |  __dict__\n     |      dictionary for instance variables (if defined)\n     |  \n     |  __weakref__\n     |      list of weak references to the object (if defined)\n     |  \n     |  ----------------------------------------------------------------------\n     |  Data and other attributes inherited from Random:\n     |  \n     |  VERSION = 3\n     |  \n     |  ----------------------------------------------------------------------\n     |  Static methods inherited from _random.Random:\n     |  \n     |  __new__(*args, **kwargs) from builtins.type\n     |      Create and return a new object.  See help(type) for accurate signature.\n\nFUNCTIONS\n    betavariate(alpha, beta) method of Random instance\n        Beta distribution.\n        \n        Conditions on the parameters are alpha > 0 and beta > 0.\n        Returned values range between 0 and 1.\n    \n    choice(seq) method of Random instance\n        Choose a random element from a non-empty sequence.\n    \n    choices(population, weights=None, *, cum_weights=None, k=1) method of Random instance\n        Return a k sized list of population elements chosen with replacement.\n        \n        If the relative weights or cumulative weights are not specified,\n        the selections are made with equal probability.\n    \n    expovariate(lambd) method of Random instance\n        Exponential distribution.\n        \n        lambd is 1.0 divided by the desired mean.  It should be\n        nonzero.  (The parameter would be called \"lambda\", but that is\n        a reserved word in Python.)  Returned values range from 0 to\n        positive infinity if lambd is positive, and from negative\n        infinity to 0 if lambd is negative.\n    \n    gammavariate(alpha, beta) method of Random instance\n        Gamma distribution.  Not the gamma function!\n        \n        Conditions on the parameters are alpha > 0 and beta > 0.\n        \n        The probability distribution function is:\n        \n                    x ** (alpha - 1) * math.exp(-x / beta)\n          pdf(x) =  --------------------------------------\n                      math.gamma(alpha) * beta ** alpha\n    \n    gauss(mu, sigma) method of Random instance\n        Gaussian distribution.\n        \n        mu is the mean, and sigma is the standard deviation.  This is\n        slightly faster than the normalvariate() function.\n        \n        Not thread-safe without a lock around calls.\n    \n    getrandbits(k, /) method of Random instance\n        getrandbits(k) -> x.  Generates an int with k random bits.\n    \n    getstate() method of Random instance\n        Return internal state; can be passed to setstate() later.\n    \n    lognormvariate(mu, sigma) method of Random instance\n        Log normal distribution.\n        \n        If you take the natural logarithm of this distribution, you'll get a\n        normal distribution with mean mu and standard deviation sigma.\n        mu can have any value, and sigma must be greater than zero.\n    \n    normalvariate(mu, sigma) method of Random instance\n        Normal distribution.\n        \n        mu is the mean, and sigma is the standard deviation.\n    \n    paretovariate(alpha) method of Random instance\n        Pareto distribution.  alpha is the shape parameter.\n    \n    randbytes(n) method of Random instance\n        Generate n random bytes.\n    \n    randint(a, b) method of Random instance\n        Return random integer in range [a, b], including both end points.\n    \n    random() method of Random instance\n        random() -> x in the interval [0, 1).\n    \n    randrange(start, stop=None, step=1) method of Random instance\n        Choose a random item from range(start, stop[, step]).\n        \n        This fixes the problem with randint() which includes the\n        endpoint; in Python this is usually not what you want.\n    \n    sample(population, k, *, counts=None) method of Random instance\n        Chooses k unique random elements from a population sequence or set.\n        \n        Returns a new list containing elements from the population while\n        leaving the original population unchanged.  The resulting list is\n        in selection order so that all sub-slices will also be valid random\n        samples.  This allows raffle winners (the sample) to be partitioned\n        into grand prize and second place winners (the subslices).\n        \n        Members of the population need not be hashable or unique.  If the\n        population contains repeats, then each occurrence is a possible\n        selection in the sample.\n        \n        Repeated elements can be specified one at a time or with the optional\n        counts parameter.  For example:\n        \n            sample(['red', 'blue'], counts=[4, 2], k=5)\n        \n        is equivalent to:\n        \n            sample(['red', 'red', 'red', 'red', 'blue', 'blue'], k=5)\n        \n        To choose a sample from a range of integers, use range() for the\n        population argument.  This is especially fast and space efficient\n        for sampling from a large population:\n        \n            sample(range(10000000), 60)\n    \n    seed(a=None, version=2) method of Random instance\n        Initialize internal state from a seed.\n        \n        The only supported seed types are None, int, float,\n        str, bytes, and bytearray.\n        \n        None or no argument seeds from current time or from an operating\n        system specific randomness source if available.\n        \n        If *a* is an int, all bits are used.\n        \n        For version 2 (the default), all of the bits are used if *a* is a str,\n        bytes, or bytearray.  For version 1 (provided for reproducing random\n        sequences from older versions of Python), the algorithm for str and\n        bytes generates a narrower range of seeds.\n    \n    setstate(state) method of Random instance\n        Restore internal state from object returned by getstate().\n    \n    shuffle(x, random=None) method of Random instance\n        Shuffle list x in place, and return None.\n        \n        Optional argument random is a 0-argument function returning a\n        random float in [0.0, 1.0); if it is the default None, the\n        standard random.random will be used.\n    \n    triangular(low=0.0, high=1.0, mode=None) method of Random instance\n        Triangular distribution.\n        \n        Continuous distribution bounded by given lower and upper limits,\n        and having a given mode value in-between.\n        \n        http://en.wikipedia.org/wiki/Triangular_distribution\n    \n    uniform(a, b) method of Random instance\n        Get a random number in the range [a, b) or [a, b] depending on rounding.\n    \n    vonmisesvariate(mu, kappa) method of Random instance\n        Circular data distribution.\n        \n        mu is the mean angle, expressed in radians between 0 and 2*pi, and\n        kappa is the concentration parameter, which must be greater than or\n        equal to zero.  If kappa is equal to zero, this distribution reduces\n        to a uniform random angle over the range 0 to 2*pi.\n    \n    weibullvariate(alpha, beta) method of Random instance\n        Weibull distribution.\n        \n        alpha is the scale parameter and beta is the shape parameter.\n\nDATA\n    __all__ = ['Random', 'SystemRandom', 'betavariate', 'choice', 'choices...\n\nFILE\n    /Users/sean/.pyenv/versions/3.9.2/lib/python3.9/random.py\n\n\n"
     ]
    }
   ],
   "source": [
    "help(random)"
   ]
  },
  {
   "cell_type": "code",
   "execution_count": 12,
   "metadata": {
    "scrolled": true
   },
   "outputs": [
    {
     "output_type": "execute_result",
     "data": {
      "text/plain": [
       "100"
      ]
     },
     "metadata": {},
     "execution_count": 12
    }
   ],
   "source": [
    "# If I want to generate a random integer from 0 to 100, I can use random.randint\n",
    "\n",
    "# random is the module (which we defined with \"import\")\n",
    "# randint is a function in that module (which we access as random.randint)\n",
    "random.randint(0, 100)"
   ]
  },
  {
   "cell_type": "code",
   "execution_count": 13,
   "metadata": {
    "scrolled": true
   },
   "outputs": [
    {
     "output_type": "execute_result",
     "data": {
      "text/plain": [
       "2.718281828459045"
      ]
     },
     "metadata": {},
     "execution_count": 13
    }
   ],
   "source": [
    "# (szf) From above, we have a variable called `random` that is pointing to the module random. From the attributes, again above and viewed\n",
    "# by `dir()`, we can return the attribute value.\n",
    "random._e"
   ]
  },
  {
   "cell_type": "code",
   "execution_count": 14,
   "metadata": {},
   "outputs": [],
   "source": [
    "x = 10"
   ]
  },
  {
   "cell_type": "code",
   "execution_count": 15,
   "metadata": {},
   "outputs": [],
   "source": [
    "y = [10, 20, 30]"
   ]
  },
  {
   "cell_type": "code",
   "execution_count": 16,
   "metadata": {},
   "outputs": [],
   "source": [
    "import random"
   ]
  },
  {
   "cell_type": "code",
   "execution_count": 17,
   "metadata": {},
   "outputs": [
    {
     "output_type": "stream",
     "name": "stdout",
     "text": [
      "41\n78\n96\n"
     ]
    }
   ],
   "source": [
    "for i in range(3):\n",
    "    print(random.randint(0, 100))"
   ]
  },
  {
   "cell_type": "code",
   "execution_count": 18,
   "metadata": {},
   "outputs": [
    {
     "output_type": "stream",
     "name": "stdout",
     "text": [
      "8\n27\n89\n"
     ]
    }
   ],
   "source": [
    "for i in range(3):\n",
    "    print(random.randint(0, 100))"
   ]
  },
  {
   "cell_type": "code",
   "execution_count": 19,
   "metadata": {},
   "outputs": [
    {
     "output_type": "stream",
     "name": "stdout",
     "text": [
      "49\n97\n53\n"
     ]
    }
   ],
   "source": [
    "random.seed(0)   # restart the random number generator with a \"seed\" of 0\n",
    "for i in range(3):\n",
    "    print(random.randint(0, 100))"
   ]
  },
  {
   "cell_type": "code",
   "execution_count": 20,
   "metadata": {},
   "outputs": [
    {
     "output_type": "stream",
     "name": "stdout",
     "text": [
      "49\n97\n53\n"
     ]
    }
   ],
   "source": [
    "random.seed(0)   # restart the random number generator with a \"seed\" of 0\n",
    "for i in range(3):\n",
    "    print(random.randint(0, 100))"
   ]
  },
  {
   "cell_type": "code",
   "execution_count": 21,
   "metadata": {},
   "outputs": [
    {
     "output_type": "stream",
     "name": "stdout",
     "text": [
      "49\n97\n53\n"
     ]
    }
   ],
   "source": [
    "random.seed(0)   # restart the random number generator with a \"seed\" of 0\n",
    "for i in range(3):\n",
    "    print(random.randint(0, 100))"
   ]
  },
  {
   "cell_type": "code",
   "execution_count": 22,
   "metadata": {},
   "outputs": [
    {
     "output_type": "execute_result",
     "data": {
      "text/plain": [
       "2.718281828459045"
      ]
     },
     "metadata": {},
     "execution_count": 22
    }
   ],
   "source": [
    "# (szf) From above, we have a variable called `random` that is pointing to the module random. From the attributes, again above and viewed\n",
    "# by `dir()`, we can return the attribute value.\n",
    "random._e"
   ]
  },
  {
   "source": [
    "# dunder is __something__"
   ],
   "cell_type": "markdown",
   "metadata": {}
  },
  {
   "cell_type": "markdown",
   "metadata": {},
   "source": [
    "# Some naming conventions\n",
    "\n",
    "- `identifier` this is a plain ol' variable or function -- all lowercase, public, etc.\n",
    "- `BigName` this is in CamelCase, and should be a class\n",
    "- `__name__` this is \"dunder name,\" and should be defined only if you know what Python expects to do with `__name__` defined in your code.\n",
    "- `_something` this is as private as things get in Python. Don't touch this in someone else's code\n",
    "- `something_` this is to avoid namespace collisions with things in Python"
   ]
  },
  {
   "cell_type": "code",
   "execution_count": 24,
   "metadata": {},
   "outputs": [],
   "source": [
    "# example of a trailing _\n",
    "class_ = str\n",
    "\n",
    "# class is a keyword, so I can't assign it to something"
   ]
  },
  {
   "cell_type": "code",
   "execution_count": 25,
   "metadata": {},
   "outputs": [
    {
     "output_type": "stream",
     "name": "stdout",
     "text": [
      "Help on method randint in module random:\n\nrandint(a, b) method of random.Random instance\n    Return random integer in range [a, b], including both end points.\n\n"
     ]
    }
   ],
   "source": [
    "help(random.randint)"
   ]
  },
  {
   "cell_type": "code",
   "execution_count": 26,
   "metadata": {},
   "outputs": [],
   "source": [
    "mylist = []\n",
    "mylist.append(1)\n",
    "mylist.append(2)"
   ]
  },
  {
   "cell_type": "code",
   "execution_count": 27,
   "metadata": {},
   "outputs": [
    {
     "output_type": "execute_result",
     "data": {
      "text/plain": [
       "[1, 2]"
      ]
     },
     "metadata": {},
     "execution_count": 27
    }
   ],
   "source": [
    "mylist"
   ]
  },
  {
   "cell_type": "code",
   "execution_count": 28,
   "metadata": {},
   "outputs": [],
   "source": [
    "# a().b().c().d()\n",
    "# a.b.c.d"
   ]
  },
  {
   "cell_type": "markdown",
   "metadata": {},
   "source": [
    "# Exercise: Generate random numbers\n",
    "\n",
    "1. Import the `random` module\n",
    "2. Set the seed to be 0\n",
    "3. Create an empty list, called `numbers`\n",
    "4. Iterate 1,000 times. Each time, generate a random integer between 0 and 100, and append it to `numbers`.\n",
    "5. Get the mean of `numbers`."
   ]
  },
  {
   "cell_type": "code",
   "execution_count": 29,
   "metadata": {},
   "outputs": [
    {
     "output_type": "execute_result",
     "data": {
      "text/plain": [
       "48.697"
      ]
     },
     "metadata": {},
     "execution_count": 29
    }
   ],
   "source": [
    "import random\n",
    "\n",
    "random.seed(0) # seed the random-number system \n",
    "numbers = []   # create an empty list\n",
    "\n",
    "for i in range(1000):\n",
    "    numbers.append(random.randint(0, 100))\n",
    "    \n",
    "sum(numbers) / len(numbers) # (szf) simple mean"
   ]
  },
  {
   "cell_type": "code",
   "execution_count": 30,
   "metadata": {},
   "outputs": [
    {
     "output_type": "error",
     "ename": "NameError",
     "evalue": "name 'randint' is not defined",
     "traceback": [
      "\u001b[0;31m---------------------------------------------------------------------------\u001b[0m",
      "\u001b[0;31mNameError\u001b[0m                                 Traceback (most recent call last)",
      "\u001b[0;32m<ipython-input-30-c9c8c36d5c0c>\u001b[0m in \u001b[0;36m<module>\u001b[0;34m\u001b[0m\n\u001b[0;32m----> 1\u001b[0;31m \u001b[0mrandint\u001b[0m   \u001b[0;31m# look for a variable randint... but there isn't a variable randint!\u001b[0m\u001b[0;34m\u001b[0m\u001b[0;34m\u001b[0m\u001b[0m\n\u001b[0m",
      "\u001b[0;31mNameError\u001b[0m: name 'randint' is not defined"
     ]
    }
   ],
   "source": [
    "randint   # look for a variable randint... but there isn't a variable randint!"
   ]
  },
  {
   "cell_type": "code",
   "execution_count": 31,
   "metadata": {},
   "outputs": [],
   "source": [
    "# however, I can define randint as a variable\n",
    "from random import randint\n",
    "\n",
    "# in other words:\n",
    "# import the random module, but *DON'T* define the variable random\n",
    "# rather, define the variable \"randint\" which refers to random.randint"
   ]
  },
  {
   "cell_type": "code",
   "execution_count": 32,
   "metadata": {},
   "outputs": [
    {
     "output_type": "execute_result",
     "data": {
      "text/plain": [
       "60"
      ]
     },
     "metadata": {},
     "execution_count": 32
    }
   ],
   "source": [
    "randint(0, 100)"
   ]
  },
  {
   "cell_type": "code",
   "execution_count": 33,
   "metadata": {},
   "outputs": [
    {
     "output_type": "execute_result",
     "data": {
      "text/plain": [
       "95"
      ]
     },
     "metadata": {},
     "execution_count": 33
    }
   ],
   "source": [
    "randint(0, 100)"
   ]
  },
  {
   "cell_type": "code",
   "execution_count": 34,
   "metadata": {},
   "outputs": [],
   "source": [
    "import random\n",
    "from random import randint"
   ]
  },
  {
   "cell_type": "code",
   "execution_count": 35,
   "metadata": {},
   "outputs": [],
   "source": [
    "# we can import more than one name from a module\n",
    "\n",
    "from random import randint, seed"
   ]
  },
  {
   "cell_type": "code",
   "execution_count": 36,
   "metadata": {},
   "outputs": [],
   "source": [
    "# you can do this\n",
    "# :boom but I will not be your friend any more!\n",
    "\n",
    "from random import * "
   ]
  },
  {
   "cell_type": "code",
   "execution_count": 37,
   "metadata": {},
   "outputs": [],
   "source": [
    "# the simplest way to import \n",
    "import random\n",
    "\n",
    "# import one or more names from a module\n",
    "from random import randint, seed\n",
    "\n",
    "# import random, but define a different variable\n",
    "import random as r\n",
    "\n",
    "#  import one name, but with an alias\n",
    "from random import randint as ri"
   ]
  },
  {
   "cell_type": "code",
   "execution_count": 38,
   "metadata": {},
   "outputs": [
    {
     "output_type": "stream",
     "name": "stdout",
     "text": [
      "Help on method randint in module random:\n\nrandint(a, b) method of random.Random instance\n    Return random integer in range [a, b], including both end points.\n\n"
     ]
    }
   ],
   "source": [
    "help(random.randint)"
   ]
  },
  {
   "cell_type": "code",
   "execution_count": 39,
   "metadata": {},
   "outputs": [
    {
     "output_type": "error",
     "ename": "ValueError",
     "evalue": "empty range for randrange() (0, -9, -9)",
     "traceback": [
      "\u001b[0;31m---------------------------------------------------------------------------\u001b[0m",
      "\u001b[0;31mValueError\u001b[0m                                Traceback (most recent call last)",
      "\u001b[0;32m<ipython-input-39-eaff1e115ba4>\u001b[0m in \u001b[0;36m<module>\u001b[0;34m\u001b[0m\n\u001b[0;32m----> 1\u001b[0;31m \u001b[0mrandom\u001b[0m\u001b[0;34m.\u001b[0m\u001b[0mrandint\u001b[0m\u001b[0;34m(\u001b[0m\u001b[0;36m0\u001b[0m\u001b[0;34m,\u001b[0m \u001b[0;34m-\u001b[0m\u001b[0;36m10\u001b[0m\u001b[0;34m)\u001b[0m\u001b[0;34m\u001b[0m\u001b[0;34m\u001b[0m\u001b[0m\n\u001b[0m",
      "\u001b[0;32m~/.pyenv/versions/3.9.2/lib/python3.9/random.py\u001b[0m in \u001b[0;36mrandint\u001b[0;34m(self, a, b)\u001b[0m\n\u001b[1;32m    337\u001b[0m         \"\"\"\n\u001b[1;32m    338\u001b[0m \u001b[0;34m\u001b[0m\u001b[0m\n\u001b[0;32m--> 339\u001b[0;31m         \u001b[0;32mreturn\u001b[0m \u001b[0mself\u001b[0m\u001b[0;34m.\u001b[0m\u001b[0mrandrange\u001b[0m\u001b[0;34m(\u001b[0m\u001b[0ma\u001b[0m\u001b[0;34m,\u001b[0m \u001b[0mb\u001b[0m\u001b[0;34m+\u001b[0m\u001b[0;36m1\u001b[0m\u001b[0;34m)\u001b[0m\u001b[0;34m\u001b[0m\u001b[0;34m\u001b[0m\u001b[0m\n\u001b[0m\u001b[1;32m    340\u001b[0m \u001b[0;34m\u001b[0m\u001b[0m\n\u001b[1;32m    341\u001b[0m \u001b[0;34m\u001b[0m\u001b[0m\n",
      "\u001b[0;32m~/.pyenv/versions/3.9.2/lib/python3.9/random.py\u001b[0m in \u001b[0;36mrandrange\u001b[0;34m(self, start, stop, step)\u001b[0m\n\u001b[1;32m    315\u001b[0m             \u001b[0;32mreturn\u001b[0m \u001b[0mistart\u001b[0m \u001b[0;34m+\u001b[0m \u001b[0mself\u001b[0m\u001b[0;34m.\u001b[0m\u001b[0m_randbelow\u001b[0m\u001b[0;34m(\u001b[0m\u001b[0mwidth\u001b[0m\u001b[0;34m)\u001b[0m\u001b[0;34m\u001b[0m\u001b[0;34m\u001b[0m\u001b[0m\n\u001b[1;32m    316\u001b[0m         \u001b[0;32mif\u001b[0m \u001b[0mstep\u001b[0m \u001b[0;34m==\u001b[0m \u001b[0;36m1\u001b[0m\u001b[0;34m:\u001b[0m\u001b[0;34m\u001b[0m\u001b[0;34m\u001b[0m\u001b[0m\n\u001b[0;32m--> 317\u001b[0;31m             \u001b[0;32mraise\u001b[0m \u001b[0mValueError\u001b[0m\u001b[0;34m(\u001b[0m\u001b[0;34m\"empty range for randrange() (%d, %d, %d)\"\u001b[0m \u001b[0;34m%\u001b[0m \u001b[0;34m(\u001b[0m\u001b[0mistart\u001b[0m\u001b[0;34m,\u001b[0m \u001b[0mistop\u001b[0m\u001b[0;34m,\u001b[0m \u001b[0mwidth\u001b[0m\u001b[0;34m)\u001b[0m\u001b[0;34m)\u001b[0m\u001b[0;34m\u001b[0m\u001b[0;34m\u001b[0m\u001b[0m\n\u001b[0m\u001b[1;32m    318\u001b[0m \u001b[0;34m\u001b[0m\u001b[0m\n\u001b[1;32m    319\u001b[0m         \u001b[0;31m# Non-unit step argument supplied.\u001b[0m\u001b[0;34m\u001b[0m\u001b[0;34m\u001b[0m\u001b[0;34m\u001b[0m\u001b[0m\n",
      "\u001b[0;31mValueError\u001b[0m: empty range for randrange() (0, -9, -9)"
     ]
    }
   ],
   "source": [
    "# (szf) Bad example, your start and end points are out-of-alignment! Negative numbers are to the /left/ of zero on our simple plane <--\\-10\\--\\0\\--\\+10\\-->\n",
    "random.randint(0, -10)"
   ]
  },
  {
   "cell_type": "code",
   "execution_count": 40,
   "metadata": {},
   "outputs": [
    {
     "output_type": "execute_result",
     "data": {
      "text/plain": [
       "-4"
      ]
     },
     "metadata": {},
     "execution_count": 40
    }
   ],
   "source": [
    "random.randint(-10, 0)"
   ]
  },
  {
   "cell_type": "code",
   "execution_count": 41,
   "metadata": {},
   "outputs": [
    {
     "output_type": "execute_result",
     "data": {
      "text/plain": [
       "<module 'random' from '/Users/sean/.pyenv/versions/3.9.2/lib/python3.9/random.py'>"
      ]
     },
     "metadata": {},
     "execution_count": 41
    }
   ],
   "source": [
    "random"
   ]
  },
  {
   "cell_type": "code",
   "execution_count": 42,
   "metadata": {},
   "outputs": [],
   "source": [
    "# sys -- module is loaded automatically when Python starts\n",
    "# but it isn't defined as a variable until we import it\n",
    "\n",
    "import sys"
   ]
  },
  {
   "cell_type": "code",
   "execution_count": 43,
   "metadata": {},
   "outputs": [
    {
     "output_type": "execute_result",
     "data": {
      "text/plain": [
       "['/Users/sean/Documents/GitHub/oreilly-1st-steps-python-modules',\n",
       " '/Users/sean/.vscode/extensions/ms-toolsai.jupyter-2021.5.702919634/pythonFiles',\n",
       " '/Users/sean/.vscode/extensions/ms-toolsai.jupyter-2021.5.702919634/pythonFiles/lib/python',\n",
       " '/Users/sean/.pyenv/versions/3.9.2/lib/python39.zip',\n",
       " '/Users/sean/.pyenv/versions/3.9.2/lib/python3.9',\n",
       " '/Users/sean/.pyenv/versions/3.9.2/lib/python3.9/lib-dynload',\n",
       " '',\n",
       " '/Users/sean/.pyenv/versions/rueven/lib/python3.9/site-packages',\n",
       " '/Users/sean/.pyenv/versions/rueven/lib/python3.9/site-packages/IPython/extensions',\n",
       " '/Users/sean/.ipython',\n",
       " '/Users/sean/.vscode/extensions/ms-python.python-2021.3.680753044/pythonFiles/lib/python']"
      ]
     },
     "metadata": {},
     "execution_count": 43
    }
   ],
   "source": [
    "sys.path"
   ]
  },
  {
   "cell_type": "code",
   "execution_count": 44,
   "metadata": {},
   "outputs": [
    {
     "output_type": "error",
     "ename": "ModuleNotFoundError",
     "evalue": "No module named 'asdfafsafafafa'",
     "traceback": [
      "\u001b[0;31m---------------------------------------------------------------------------\u001b[0m",
      "\u001b[0;31mModuleNotFoundError\u001b[0m                       Traceback (most recent call last)",
      "\u001b[0;32m<ipython-input-44-d59be46df1da>\u001b[0m in \u001b[0;36m<module>\u001b[0;34m\u001b[0m\n\u001b[0;32m----> 1\u001b[0;31m \u001b[0;32mimport\u001b[0m \u001b[0masdfafsafafafa\u001b[0m\u001b[0;34m\u001b[0m\u001b[0;34m\u001b[0m\u001b[0m\n\u001b[0m",
      "\u001b[0;31mModuleNotFoundError\u001b[0m: No module named 'asdfafsafafafa'"
     ]
    }
   ],
   "source": [
    "# (szf) Nonsense!\n",
    "import asdfafsafafafa"
   ]
  },
  {
   "cell_type": "code",
   "execution_count": 45,
   "metadata": {},
   "outputs": [],
   "source": [
    "import collections  # I'm defining a global variable, \"collections\""
   ]
  },
  {
   "cell_type": "code",
   "execution_count": 46,
   "metadata": {},
   "outputs": [],
   "source": [
    "del collections   # remove the function definition"
   ]
  },
  {
   "cell_type": "code",
   "execution_count": 48,
   "metadata": {},
   "outputs": [],
   "source": [
    "# :boom don't do this! Please!\n",
    "\n",
    "def foo():\n",
    "    import collections\n",
    "    print(collections)"
   ]
  },
  {
   "cell_type": "code",
   "execution_count": 49,
   "metadata": {},
   "outputs": [
    {
     "output_type": "stream",
     "name": "stdout",
     "text": [
      "<module 'collections' from '/Users/sean/.pyenv/versions/3.9.2/lib/python3.9/collections/__init__.py'>\n"
     ]
    }
   ],
   "source": [
    "# (szf) Remember, you were told not to do this\n",
    "foo()"
   ]
  },
  {
   "cell_type": "code",
   "execution_count": 50,
   "metadata": {},
   "outputs": [
    {
     "output_type": "error",
     "ename": "NameError",
     "evalue": "name 'collections' is not defined",
     "traceback": [
      "\u001b[0;31m---------------------------------------------------------------------------\u001b[0m",
      "\u001b[0;31mNameError\u001b[0m                                 Traceback (most recent call last)",
      "\u001b[0;32m<ipython-input-50-fccd2d8352d0>\u001b[0m in \u001b[0;36m<module>\u001b[0;34m\u001b[0m\n\u001b[0;32m----> 1\u001b[0;31m \u001b[0mcollections\u001b[0m\u001b[0;34m\u001b[0m\u001b[0;34m\u001b[0m\u001b[0m\n\u001b[0m",
      "\u001b[0;31mNameError\u001b[0m: name 'collections' is not defined"
     ]
    }
   ],
   "source": [
    "# (szf) Because module collections is not global, but in the scope of function `foo()`\n",
    "collections"
   ]
  },
  {
   "cell_type": "code",
   "execution_count": 51,
   "metadata": {},
   "outputs": [],
   "source": [
    "import mymod"
   ]
  },
  {
   "cell_type": "code",
   "execution_count": 52,
   "metadata": {},
   "outputs": [
    {
     "output_type": "execute_result",
     "data": {
      "text/plain": [
       "['/Users/sean/Documents/GitHub/oreilly-1st-steps-python-modules',\n",
       " '/Users/sean/.vscode/extensions/ms-toolsai.jupyter-2021.5.702919634/pythonFiles',\n",
       " '/Users/sean/.vscode/extensions/ms-toolsai.jupyter-2021.5.702919634/pythonFiles/lib/python',\n",
       " '/Users/sean/.pyenv/versions/3.9.2/lib/python39.zip',\n",
       " '/Users/sean/.pyenv/versions/3.9.2/lib/python3.9',\n",
       " '/Users/sean/.pyenv/versions/3.9.2/lib/python3.9/lib-dynload',\n",
       " '',\n",
       " '/Users/sean/.pyenv/versions/rueven/lib/python3.9/site-packages',\n",
       " '/Users/sean/.pyenv/versions/rueven/lib/python3.9/site-packages/IPython/extensions',\n",
       " '/Users/sean/.ipython',\n",
       " '/Users/sean/.vscode/extensions/ms-python.python-2021.3.680753044/pythonFiles/lib/python']"
      ]
     },
     "metadata": {},
     "execution_count": 52
    }
   ],
   "source": [
    "sys.path"
   ]
  },
  {
   "cell_type": "code",
   "execution_count": 53,
   "metadata": {},
   "outputs": [],
   "source": [
    "import mymod"
   ]
  },
  {
   "cell_type": "code",
   "execution_count": 54,
   "metadata": {},
   "outputs": [
    {
     "output_type": "execute_result",
     "data": {
      "text/plain": [
       "['__builtins__',\n",
       " '__cached__',\n",
       " '__doc__',\n",
       " '__file__',\n",
       " '__loader__',\n",
       " '__name__',\n",
       " '__package__',\n",
       " '__spec__',\n",
       " 'hello',\n",
       " 'random',\n",
       " 'x',\n",
       " 'y',\n",
       " 'z']"
      ]
     },
     "metadata": {},
     "execution_count": 54
    }
   ],
   "source": [
    "dir(mymod)"
   ]
  },
  {
   "cell_type": "code",
   "execution_count": 55,
   "metadata": {},
   "outputs": [
    {
     "output_type": "execute_result",
     "data": {
      "text/plain": [
       "<module 'mymod' from '/Users/sean/Documents/GitHub/oreilly-1st-steps-python-modules/mymod.py'>"
      ]
     },
     "metadata": {},
     "execution_count": 55
    }
   ],
   "source": [
    "mymod"
   ]
  },
  {
   "cell_type": "code",
   "execution_count": 56,
   "metadata": {},
   "outputs": [],
   "source": [
    "# (szf) You probably should have a DOCSTRING, yes?\n",
    "mymod.__doc__"
   ]
  },
  {
   "cell_type": "code",
   "execution_count": 57,
   "metadata": {},
   "outputs": [
    {
     "output_type": "execute_result",
     "data": {
      "text/plain": [
       "'/Users/sean/Documents/GitHub/oreilly-1st-steps-python-modules/mymod.py'"
      ]
     },
     "metadata": {},
     "execution_count": 57
    }
   ],
   "source": [
    "mymod.__file__"
   ]
  },
  {
   "cell_type": "code",
   "execution_count": 58,
   "metadata": {},
   "outputs": [
    {
     "output_type": "execute_result",
     "data": {
      "text/plain": [
       "'mymod'"
      ]
     },
     "metadata": {},
     "execution_count": 58
    }
   ],
   "source": [
    "mymod.__name__"
   ]
  },
  {
   "cell_type": "code",
   "execution_count": 59,
   "metadata": {},
   "outputs": [],
   "source": [
    "# (szf) Second import\n",
    "import mymod"
   ]
  },
  {
   "cell_type": "code",
   "execution_count": 60,
   "metadata": {},
   "outputs": [
    {
     "output_type": "execute_result",
     "data": {
      "text/plain": [
       "['__builtins__',\n",
       " '__cached__',\n",
       " '__doc__',\n",
       " '__file__',\n",
       " '__loader__',\n",
       " '__name__',\n",
       " '__package__',\n",
       " '__spec__',\n",
       " 'hello',\n",
       " 'random',\n",
       " 'x',\n",
       " 'y',\n",
       " 'z']"
      ]
     },
     "metadata": {},
     "execution_count": 60
    }
   ],
   "source": [
    "# (szf) Suppose a refactoring was done on module `mymod` so that it no longer set variables 'random', 'x', 'y', and 'z'...\n",
    "# we still have them as attributes!\n",
    "dir(mymod)"
   ]
  },
  {
   "cell_type": "code",
   "execution_count": 61,
   "metadata": {},
   "outputs": [
    {
     "output_type": "execute_result",
     "data": {
      "text/plain": [
       "<module 'mymod' from '/Users/sean/Documents/GitHub/oreilly-1st-steps-python-modules/mymod.py'>"
      ]
     },
     "metadata": {},
     "execution_count": 61
    }
   ],
   "source": [
    "# How can we reload our module?\n",
    "\n",
    "import importlib\n",
    "importlib.reload(mymod)  # this will reload the file that mymod is associated with"
   ]
  },
  {
   "cell_type": "code",
   "execution_count": 62,
   "metadata": {},
   "outputs": [
    {
     "output_type": "execute_result",
     "data": {
      "text/plain": [
       "['__builtins__',\n",
       " '__cached__',\n",
       " '__doc__',\n",
       " '__file__',\n",
       " '__loader__',\n",
       " '__name__',\n",
       " '__package__',\n",
       " '__spec__',\n",
       " 'hello',\n",
       " 'random',\n",
       " 'x',\n",
       " 'y',\n",
       " 'z']"
      ]
     },
     "metadata": {},
     "execution_count": 62
    }
   ],
   "source": [
    "dir(mymod)"
   ]
  },
  {
   "cell_type": "code",
   "execution_count": 63,
   "metadata": {},
   "outputs": [
    {
     "output_type": "execute_result",
     "data": {
      "text/plain": [
       "100"
      ]
     },
     "metadata": {},
     "execution_count": 63
    }
   ],
   "source": [
    "mymod.x"
   ]
  },
  {
   "cell_type": "code",
   "execution_count": 64,
   "metadata": {},
   "outputs": [
    {
     "output_type": "execute_result",
     "data": {
      "text/plain": [
       "[10, 20, 30]"
      ]
     },
     "metadata": {},
     "execution_count": 64
    }
   ],
   "source": [
    "mymod.y"
   ]
  },
  {
   "cell_type": "code",
   "execution_count": 65,
   "metadata": {},
   "outputs": [
    {
     "output_type": "execute_result",
     "data": {
      "text/plain": [
       "{'a': 1, 'b': 2, 'c': 3}"
      ]
     },
     "metadata": {},
     "execution_count": 65
    }
   ],
   "source": [
    "mymod.z"
   ]
  },
  {
   "cell_type": "code",
   "execution_count": 66,
   "metadata": {},
   "outputs": [
    {
     "output_type": "execute_result",
     "data": {
      "text/plain": [
       "'Hello, out there!!'"
      ]
     },
     "metadata": {},
     "execution_count": 66
    }
   ],
   "source": [
    "mymod.hello('out there!')"
   ]
  },
  {
   "cell_type": "code",
   "execution_count": 67,
   "metadata": {},
   "outputs": [
    {
     "output_type": "execute_result",
     "data": {
      "text/plain": [
       "10"
      ]
     },
     "metadata": {},
     "execution_count": 67
    }
   ],
   "source": [
    "x  # this is the global variable x, *NOT* mymod.x"
   ]
  },
  {
   "cell_type": "code",
   "execution_count": 68,
   "metadata": {},
   "outputs": [
    {
     "output_type": "execute_result",
     "data": {
      "text/plain": [
       "[10, 20, 30]"
      ]
     },
     "metadata": {},
     "execution_count": 68
    }
   ],
   "source": [
    "y  # this is the global variable y, *NOT* mymod.y"
   ]
  },
  {
   "cell_type": "code",
   "execution_count": 69,
   "metadata": {},
   "outputs": [
    {
     "output_type": "error",
     "ename": "NameError",
     "evalue": "name 'z' is not defined",
     "traceback": [
      "\u001b[0;31m---------------------------------------------------------------------------\u001b[0m",
      "\u001b[0;31mNameError\u001b[0m                                 Traceback (most recent call last)",
      "\u001b[0;32m<ipython-input-69-3a710d2a84f8>\u001b[0m in \u001b[0;36m<module>\u001b[0;34m\u001b[0m\n\u001b[0;32m----> 1\u001b[0;31m \u001b[0mz\u001b[0m\u001b[0;34m\u001b[0m\u001b[0;34m\u001b[0m\u001b[0m\n\u001b[0m",
      "\u001b[0;31mNameError\u001b[0m: name 'z' is not defined"
     ]
    }
   ],
   "source": [
    "z"
   ]
  },
  {
   "cell_type": "code",
   "execution_count": 70,
   "metadata": {},
   "outputs": [
    {
     "output_type": "execute_result",
     "data": {
      "text/plain": [
       "<module 'mymod' from '/Users/sean/Documents/GitHub/oreilly-1st-steps-python-modules/mymod.py'>"
      ]
     },
     "metadata": {},
     "execution_count": 70
    }
   ],
   "source": [
    "import mymod\n",
    "importlib.reload(mymod)"
   ]
  },
  {
   "cell_type": "code",
   "execution_count": 71,
   "metadata": {},
   "outputs": [],
   "source": [
    "# (szf) Overwriting the module's value of 'x'\n",
    "mymod.x = 98765"
   ]
  },
  {
   "cell_type": "code",
   "execution_count": 72,
   "metadata": {},
   "outputs": [
    {
     "output_type": "execute_result",
     "data": {
      "text/plain": [
       "98765"
      ]
     },
     "metadata": {},
     "execution_count": 72
    }
   ],
   "source": [
    "mymod.x"
   ]
  },
  {
   "cell_type": "code",
   "execution_count": 75,
   "metadata": {},
   "outputs": [
    {
     "output_type": "execute_result",
     "data": {
      "text/plain": [
       "<module 'mymod' from '/Users/sean/Documents/GitHub/oreilly-1st-steps-python-modules/mymod.py'>"
      ]
     },
     "metadata": {},
     "execution_count": 75
    }
   ],
   "source": [
    "importlib.reload(mymod)"
   ]
  },
  {
   "cell_type": "code",
   "execution_count": 77,
   "metadata": {},
   "outputs": [
    {
     "output_type": "execute_result",
     "data": {
      "text/plain": [
       "100"
      ]
     },
     "metadata": {},
     "execution_count": 77
    }
   ],
   "source": [
    "# (szf) And it is reset on module reload\n",
    "mymod.x"
   ]
  },
  {
   "cell_type": "code",
   "execution_count": 78,
   "metadata": {},
   "outputs": [
    {
     "output_type": "execute_result",
     "data": {
      "text/plain": [
       "'/Users/sean/Documents/GitHub/oreilly-1st-steps-python-modules'"
      ]
     },
     "metadata": {},
     "execution_count": 78
    }
   ],
   "source": [
    "# get the current Jupyter directory\n",
    "%pwd"
   ]
  },
  {
   "cell_type": "code",
   "execution_count": 79,
   "metadata": {},
   "outputs": [
    {
     "output_type": "execute_result",
     "data": {
      "text/plain": [
       "['/Users/sean/Documents/GitHub/oreilly-1st-steps-python-modules',\n",
       " '/Users/sean/.vscode/extensions/ms-toolsai.jupyter-2021.5.702919634/pythonFiles',\n",
       " '/Users/sean/.vscode/extensions/ms-toolsai.jupyter-2021.5.702919634/pythonFiles/lib/python',\n",
       " '/Users/sean/.pyenv/versions/3.9.2/lib/python39.zip',\n",
       " '/Users/sean/.pyenv/versions/3.9.2/lib/python3.9',\n",
       " '/Users/sean/.pyenv/versions/3.9.2/lib/python3.9/lib-dynload',\n",
       " '',\n",
       " '/Users/sean/.pyenv/versions/rueven/lib/python3.9/site-packages',\n",
       " '/Users/sean/.pyenv/versions/rueven/lib/python3.9/site-packages/IPython/extensions',\n",
       " '/Users/sean/.ipython',\n",
       " '/Users/sean/.vscode/extensions/ms-python.python-2021.3.680753044/pythonFiles/lib/python']"
      ]
     },
     "metadata": {},
     "execution_count": 79
    }
   ],
   "source": [
    "sys.path"
   ]
  },
  {
   "cell_type": "markdown",
   "metadata": {},
   "source": [
    "# How can I change sys.path?\n",
    "\n",
    "1. `sys.path.append` at the top of your program. Annoying, since it's not global to all programs, and kind of hackish, but it'll work.\n",
    "2. Set `PYTHONPATH` environment variable outside of your program. When Python starts up, it'll include everything in `PYTHONPATH` in `sys.path`.\n",
    "3. You can create a file with a `.pth` extension in an existing directory in `sys.path`, which contains assignments/directives what Python should add."
   ]
  },
  {
   "cell_type": "markdown",
   "metadata": {},
   "source": [
    "# Exercise: Defining a simple module\n",
    "\n",
    "1. Define a module by creating a file (`mymod2.py`) in the current directory.\n",
    "2. In the module, define one variable and one function.\n",
    "3. `import` your module. Use the variable, and call the function."
   ]
  },
  {
   "cell_type": "code",
   "execution_count": 80,
   "metadata": {},
   "outputs": [],
   "source": [
    "import mymod2"
   ]
  },
  {
   "cell_type": "code",
   "execution_count": 81,
   "metadata": {},
   "outputs": [
    {
     "output_type": "execute_result",
     "data": {
      "text/plain": [
       "35.0"
      ]
     },
     "metadata": {},
     "execution_count": 81
    }
   ],
   "source": [
    "numbers = [10, 20, 30, 40, 50, 60]\n",
    "mymod2.mean(numbers)"
   ]
  },
  {
   "cell_type": "code",
   "execution_count": 82,
   "metadata": {},
   "outputs": [
    {
     "output_type": "execute_result",
     "data": {
      "text/plain": [
       "'Reuven'"
      ]
     },
     "metadata": {},
     "execution_count": 82
    }
   ],
   "source": [
    "mymod2.person['first']"
   ]
  },
  {
   "cell_type": "code",
   "execution_count": 83,
   "metadata": {},
   "outputs": [
    {
     "output_type": "execute_result",
     "data": {
      "text/plain": [
       "46"
      ]
     },
     "metadata": {},
     "execution_count": 83
    }
   ],
   "source": [
    "mymod2.person['shoesize']"
   ]
  },
  {
   "cell_type": "code",
   "execution_count": 84,
   "metadata": {},
   "outputs": [
    {
     "output_type": "stream",
     "name": "stdout",
     "text": [
      "Help on module mymod2:\n\nNAME\n    mymod2 - A fantastic module for learning about modules!\n\nDESCRIPTION\n    This is a collection of data and functions useful for people learning\n    about Python modules.\n    \n    Wow!  How terrific!\n\nFUNCTIONS\n    mean(list_of_numbers)\n        This is the best function ever written!\n        \n        So great, it gets a two-line docstring.\n\nDATA\n    person = {'first': 'Reuven', 'last': 'Lerner', 'shoesize': 46}\n\nFILE\n    /Users/sean/Documents/GitHub/oreilly-1st-steps-python-modules/mymod2.py\n\n\n"
     ]
    }
   ],
   "source": [
    "help(mymod2)"
   ]
  },
  {
   "cell_type": "code",
   "execution_count": 85,
   "metadata": {},
   "outputs": [
    {
     "output_type": "execute_result",
     "data": {
      "text/plain": [
       "'A fantastic module for learning about modules!\\n\\nThis is a collection of data and functions useful for people learning\\nabout Python modules.\\n\\nWow!  How terrific!\\n'"
      ]
     },
     "metadata": {},
     "execution_count": 85
    }
   ],
   "source": [
    "mymod2.__doc__"
   ]
  },
  {
   "cell_type": "code",
   "execution_count": 86,
   "metadata": {},
   "outputs": [
    {
     "output_type": "execute_result",
     "data": {
      "text/plain": [
       "<module 'mymod2' from '/Users/sean/Documents/GitHub/oreilly-1st-steps-python-modules/mymod2.py'>"
      ]
     },
     "metadata": {},
     "execution_count": 86
    }
   ],
   "source": [
    "importlib.reload(mymod2)"
   ]
  },
  {
   "cell_type": "code",
   "execution_count": 87,
   "metadata": {},
   "outputs": [
    {
     "output_type": "stream",
     "name": "stdout",
     "text": [
      "Help on module mymod2:\n\nNAME\n    mymod2 - A fantastic module for learning about modules!\n\nDESCRIPTION\n    This is a collection of data and functions useful for people learning\n    about Python modules.\n    \n    Wow!  How terrific!\n\nFUNCTIONS\n    mean(list_of_numbers)\n        This is the best function ever written!\n        \n        So great, it gets a two-line docstring.\n\nDATA\n    person = {'first': 'Reuven', 'last': 'Lerner', 'shoesize': 46}\n\nFILE\n    /Users/sean/Documents/GitHub/oreilly-1st-steps-python-modules/mymod2.py\n\n\n"
     ]
    }
   ],
   "source": [
    "help(mymod2)"
   ]
  },
  {
   "cell_type": "code",
   "execution_count": 88,
   "metadata": {},
   "outputs": [],
   "source": [
    "import mymod2"
   ]
  },
  {
   "cell_type": "code",
   "execution_count": 89,
   "metadata": {},
   "outputs": [],
   "source": [
    "from mymod2 import *"
   ]
  },
  {
   "cell_type": "code",
   "execution_count": 90,
   "metadata": {},
   "outputs": [
    {
     "output_type": "execute_result",
     "data": {
      "text/plain": [
       "{'first': 'Reuven', 'last': 'Lerner', 'shoesize': 46}"
      ]
     },
     "metadata": {},
     "execution_count": 90
    }
   ],
   "source": [
    "person"
   ]
  },
  {
   "cell_type": "code",
   "execution_count": 91,
   "metadata": {},
   "outputs": [
    {
     "output_type": "execute_result",
     "data": {
      "text/plain": [
       "<function mymod2.mean(list_of_numbers)>"
      ]
     },
     "metadata": {},
     "execution_count": 91
    }
   ],
   "source": [
    "mean"
   ]
  },
  {
   "cell_type": "code",
   "execution_count": 92,
   "metadata": {},
   "outputs": [
    {
     "output_type": "execute_result",
     "data": {
      "text/plain": [
       "<module 'mymod' from '/Users/sean/Documents/GitHub/oreilly-1st-steps-python-modules/mymod.py'>"
      ]
     },
     "metadata": {},
     "execution_count": 92
    }
   ],
   "source": [
    "importlib.reload(mymod)"
   ]
  },
  {
   "cell_type": "code",
   "execution_count": 93,
   "metadata": {},
   "outputs": [
    {
     "output_type": "execute_result",
     "data": {
      "text/plain": [
       "<module 'mymod' from '/Users/sean/Documents/GitHub/oreilly-1st-steps-python-modules/mymod.py'>"
      ]
     },
     "metadata": {},
     "execution_count": 93
    }
   ],
   "source": [
    "importlib.reload(mymod)"
   ]
  },
  {
   "cell_type": "code",
   "execution_count": 94,
   "metadata": {},
   "outputs": [
    {
     "output_type": "execute_result",
     "data": {
      "text/plain": [
       "['__builtins__',\n",
       " '__cached__',\n",
       " '__doc__',\n",
       " '__file__',\n",
       " '__loader__',\n",
       " '__name__',\n",
       " '__package__',\n",
       " '__spec__',\n",
       " 'hello',\n",
       " 'random',\n",
       " 'x',\n",
       " 'y',\n",
       " 'z']"
      ]
     },
     "metadata": {},
     "execution_count": 94
    }
   ],
   "source": [
    "dir(mymod)"
   ]
  },
  {
   "cell_type": "markdown",
   "metadata": {},
   "source": [
    "# Exercise: menu\n",
    "\n",
    "1. Define a module, `menu.py`, in which you have a single function defined, `menu`.\n",
    "2. This function should take any number of string arguments.  The function, when invoked, will display all of the arguments and ask the user to choose one of them.  \n",
    "3. If the user enters one of the arguments, then it is returned to the caller.\n",
    "4. Otherewise, the user is told that the input isn't valid, and to try again.\n",
    "\n",
    "So I should be able to say:\n",
    "\n",
    "```python\n",
    "import menu\n",
    "\n",
    "user_choice = menu.menu('a', 'b', 'c')  # args\n",
    "print(f'User chose {user_choice}')\n",
    "```"
   ]
  },
  {
   "cell_type": "code",
   "execution_count": 95,
   "metadata": {},
   "outputs": [],
   "source": [
    "import menu"
   ]
  },
  {
   "cell_type": "code",
   "execution_count": 96,
   "metadata": {},
   "outputs": [
    {
     "output_type": "execute_result",
     "data": {
      "text/plain": [
       "'a'"
      ]
     },
     "metadata": {},
     "execution_count": 96
    }
   ],
   "source": [
    "menu.menu('a', 'b', 'c')"
   ]
  },
  {
   "cell_type": "code",
   "execution_count": 97,
   "metadata": {},
   "outputs": [
    {
     "output_type": "stream",
     "name": "stdout",
     "text": [
      "Hey! q was not in args!\n",
      "Hey!  was not in args!\n",
      "Hey!  was not in args!\n",
      "Hey!  was not in args!\n",
      "Hey!  was not in args!\n",
      "Hey! s was not in args!\n",
      "Hey!  was not in args!\n"
     ]
    },
    {
     "output_type": "execute_result",
     "data": {
      "text/plain": [
       "'a'"
      ]
     },
     "metadata": {},
     "execution_count": 97
    }
   ],
   "source": [
    "menu.menu('a', 'b', 'c')"
   ]
  },
  {
   "cell_type": "code",
   "execution_count": 98,
   "metadata": {},
   "outputs": [
    {
     "output_type": "execute_result",
     "data": {
      "text/plain": [
       "<module 'menu' from '/Users/sean/Documents/GitHub/oreilly-1st-steps-python-modules/menu.py'>"
      ]
     },
     "metadata": {},
     "execution_count": 98
    }
   ],
   "source": [
    "importlib.reload(menu)"
   ]
  },
  {
   "cell_type": "code",
   "execution_count": 99,
   "metadata": {},
   "outputs": [
    {
     "output_type": "execute_result",
     "data": {
      "text/plain": [
       "'b'"
      ]
     },
     "metadata": {},
     "execution_count": 99
    }
   ],
   "source": [
    "menu.menu('a', 'b', 'c')"
   ]
  },
  {
   "cell_type": "code",
   "execution_count": 115,
   "metadata": {},
   "outputs": [
    {
     "data": {
      "text/plain": [
       "<module 'menu' from '/Users/reuven/Courses/Current/oreilly-first-steps-2021-apr-1/menu.py'>"
      ]
     },
     "execution_count": 115,
     "metadata": {},
     "output_type": "execute_result"
    }
   ],
   "source": [
    "importlib.reload(menu)"
   ]
  },
  {
   "cell_type": "code",
   "execution_count": 116,
   "metadata": {},
   "outputs": [
    {
     "name": "stdout",
     "output_type": "stream",
     "text": [
      "Enter your choice (a/b/c): q\n",
      "Hey! q was not in args!\n",
      "Enter your choice (a/b/c): w\n",
      "Hey! w was not in args!\n",
      "Enter your choice (a/b/c): p\n",
      "Hey! p was not in args!\n",
      "Enter your choice (a/b/c): c\n"
     ]
    },
    {
     "data": {
      "text/plain": [
       "'c'"
      ]
     },
     "execution_count": 116,
     "metadata": {},
     "output_type": "execute_result"
    }
   ],
   "source": [
    "menu.menu('a', 'b', 'c')"
   ]
  },
  {
   "cell_type": "code",
   "execution_count": 100,
   "metadata": {},
   "outputs": [],
   "source": [
    "# (szf) A super top-level venture into Python internals... that __pycache__ directory that showed up in the initial run of this notebook.\n",
    "# It was byte-code compilation of our 'just-for-fun' modules! And it's elementary to reverse the compilation files, and that what module\n",
    "# `dis` is for... \n",
    "import dis\n"
   ]
  },
  {
   "cell_type": "code",
   "execution_count": 101,
   "metadata": {},
   "outputs": [
    {
     "output_type": "stream",
     "name": "stdout",
     "text": [
      "Help on function dis in module dis:\n\ndis(x=None, *, file=None, depth=None)\n    Disassemble classes, methods, functions, and other compiled objects.\n    \n    With no argument, disassemble the last traceback.\n    \n    Compiled objects currently include generator objects, async generator\n    objects, and coroutine objects, all of which store their code object\n    in a special attribute.\n\n"
     ]
    }
   ],
   "source": [
    "help(dis.dis)"
   ]
  },
  {
   "cell_type": "code",
   "execution_count": 103,
   "metadata": {},
   "outputs": [
    {
     "output_type": "execute_result",
     "data": {
      "text/plain": [
       "['__builtins__',\n",
       " '__cached__',\n",
       " '__doc__',\n",
       " '__file__',\n",
       " '__loader__',\n",
       " '__name__',\n",
       " '__package__',\n",
       " '__spec__',\n",
       " 'hello',\n",
       " 'random',\n",
       " 'x',\n",
       " 'y',\n",
       " 'z']"
      ]
     },
     "metadata": {},
     "execution_count": 103
    }
   ],
   "source": [
    "dir(mymod)"
   ]
  },
  {
   "cell_type": "code",
   "execution_count": 104,
   "metadata": {},
   "outputs": [
    {
     "output_type": "execute_result",
     "data": {
      "text/plain": [
       "<module 'mymod' from '/Users/sean/Documents/GitHub/oreilly-1st-steps-python-modules/mymod.py'>"
      ]
     },
     "metadata": {},
     "execution_count": 104
    }
   ],
   "source": [
    "importlib.reload(mymod)"
   ]
  },
  {
   "cell_type": "markdown",
   "metadata": {},
   "source": [
    "# About `__name__`\n",
    "\n",
    "`__name__` is always defined, no matter where you are in Python.  This variable reflects the current namespace, i.e., in which module the variables are defined.\n",
    "\n",
    "The first file that we run in a Python program has a `__name__` value of `\"__main__\"`.  Notice that `__name__` is a variable, whereas `\"__main__\"` is a string. \n",
    "\n",
    "Every time we `import` a module, `__name__` is defined in that module as a string, the same as the name of the module.\n",
    "\n",
    "- So when we *run* `mymod.py`, `__name__` is `\"__main__\"`.  \n",
    "- But when we *import* `mymod.py`, `__name__` is `\"mymod\"`.\n"
   ]
  },
  {
   "cell_type": "code",
   "execution_count": 105,
   "metadata": {},
   "outputs": [
    {
     "output_type": "execute_result",
     "data": {
      "text/plain": [
       "<module 'mymod' from '/Users/sean/Documents/GitHub/oreilly-1st-steps-python-modules/mymod.py'>"
      ]
     },
     "metadata": {},
     "execution_count": 105
    }
   ],
   "source": [
    "importlib.reload(mymod)"
   ]
  },
  {
   "cell_type": "markdown",
   "metadata": {},
   "source": [
    "# Common uses for `if __name__ == '__main__'`\n",
    "\n",
    "1. Define functions and data in the module part, and then let users run one of the functions interactively.\n",
    "2. Have the module test itself.\n",
    "3. Demo what the module can do."
   ]
  },
  {
   "cell_type": "markdown",
   "metadata": {},
   "source": [
    "# Exercise: Interactive menu\n",
    "\n",
    "1. Add a `__name__ / __main__` section to the bottom of `menu.py`.\n",
    "2. If someone runs the module interactively, we should be asked which of a, b, or c we want to choose.\n",
    "3. Print the user's final response, once they give a valid one."
   ]
  },
  {
   "cell_type": "code",
   "execution_count": 106,
   "metadata": {},
   "outputs": [
    {
     "output_type": "execute_result",
     "data": {
      "text/plain": [
       "<module 'menu' from '/Users/sean/Documents/GitHub/oreilly-1st-steps-python-modules/menu.py'>"
      ]
     },
     "metadata": {},
     "execution_count": 106
    }
   ],
   "source": [
    "importlib.reload(menu)"
   ]
  },
  {
   "cell_type": "code",
   "execution_count": 107,
   "metadata": {},
   "outputs": [
    {
     "output_type": "execute_result",
     "data": {
      "text/plain": [
       "'a'"
      ]
     },
     "metadata": {},
     "execution_count": 107
    }
   ],
   "source": [
    "menu.menu('a', 'b', 'c')"
   ]
  },
  {
   "cell_type": "code",
   "execution_count": 108,
   "metadata": {},
   "outputs": [
    {
     "output_type": "execute_result",
     "data": {
      "text/plain": [
       "'__main__'"
      ]
     },
     "metadata": {},
     "execution_count": 108
    }
   ],
   "source": [
    "# (szf) A bit of the dynamic nature of dunder name on display!\n",
    "__name__"
   ]
  },
  {
   "cell_type": "code",
   "execution_count": 109,
   "metadata": {},
   "outputs": [
    {
     "output_type": "stream",
     "name": "stdout",
     "text": [
      "Running mypackage.__init__!\n"
     ]
    }
   ],
   "source": [
    "import mypackage"
   ]
  },
  {
   "cell_type": "code",
   "execution_count": 110,
   "metadata": {},
   "outputs": [
    {
     "output_type": "execute_result",
     "data": {
      "text/plain": [
       "<module 'mypackage' from '/Users/sean/Documents/GitHub/oreilly-1st-steps-python-modules/mypackage/__init__.py'>"
      ]
     },
     "metadata": {},
     "execution_count": 110
    }
   ],
   "source": [
    "mypackage"
   ]
  },
  {
   "cell_type": "code",
   "execution_count": 111,
   "metadata": {},
   "outputs": [
    {
     "output_type": "execute_result",
     "data": {
      "text/plain": [
       "module"
      ]
     },
     "metadata": {},
     "execution_count": 111
    }
   ],
   "source": [
    "type(mypackage)"
   ]
  },
  {
   "cell_type": "code",
   "execution_count": 112,
   "metadata": {},
   "outputs": [
    {
     "output_type": "execute_result",
     "data": {
      "text/plain": [
       "['__builtins__',\n",
       " '__cached__',\n",
       " '__doc__',\n",
       " '__file__',\n",
       " '__loader__',\n",
       " '__name__',\n",
       " '__package__',\n",
       " '__path__',\n",
       " '__spec__',\n",
       " 'mymoda',\n",
       " 'mymodb']"
      ]
     },
     "metadata": {},
     "execution_count": 112
    }
   ],
   "source": [
    "dir(mypackage)"
   ]
  },
  {
   "cell_type": "code",
   "execution_count": 113,
   "metadata": {},
   "outputs": [],
   "source": [
    "import mypackage"
   ]
  },
  {
   "cell_type": "code",
   "execution_count": 114,
   "metadata": {},
   "outputs": [
    {
     "output_type": "execute_result",
     "data": {
      "text/plain": [
       "['__builtins__',\n",
       " '__cached__',\n",
       " '__doc__',\n",
       " '__file__',\n",
       " '__loader__',\n",
       " '__name__',\n",
       " '__package__',\n",
       " '__path__',\n",
       " '__spec__',\n",
       " 'mymoda',\n",
       " 'mymodb']"
      ]
     },
     "metadata": {},
     "execution_count": 114
    }
   ],
   "source": [
    "dir(mypackage)"
   ]
  },
  {
   "cell_type": "code",
   "execution_count": 115,
   "metadata": {},
   "outputs": [],
   "source": [
    "from mypackage import mymoda"
   ]
  },
  {
   "cell_type": "code",
   "execution_count": 116,
   "metadata": {},
   "outputs": [],
   "source": [
    "from mypackage import mymodb"
   ]
  },
  {
   "cell_type": "code",
   "execution_count": 117,
   "metadata": {},
   "outputs": [
    {
     "output_type": "execute_result",
     "data": {
      "text/plain": [
       "<module 'mypackage.mymoda' from '/Users/sean/Documents/GitHub/oreilly-1st-steps-python-modules/mypackage/mymoda.py'>"
      ]
     },
     "metadata": {},
     "execution_count": 117
    }
   ],
   "source": [
    "mymoda"
   ]
  },
  {
   "cell_type": "code",
   "execution_count": 118,
   "metadata": {},
   "outputs": [
    {
     "output_type": "execute_result",
     "data": {
      "text/plain": [
       "module"
      ]
     },
     "metadata": {},
     "execution_count": 118
    }
   ],
   "source": [
    "type(mymoda)"
   ]
  },
  {
   "cell_type": "code",
   "execution_count": 119,
   "metadata": {},
   "outputs": [
    {
     "output_type": "execute_result",
     "data": {
      "text/plain": [
       "module"
      ]
     },
     "metadata": {},
     "execution_count": 119
    }
   ],
   "source": [
    "type(mymodb)"
   ]
  },
  {
   "cell_type": "code",
   "execution_count": 120,
   "metadata": {},
   "outputs": [
    {
     "output_type": "execute_result",
     "data": {
      "text/plain": [
       "'Hello from mymoda, out there!'"
      ]
     },
     "metadata": {},
     "execution_count": 120
    }
   ],
   "source": [
    "mymoda.hello('out there')"
   ]
  },
  {
   "cell_type": "code",
   "execution_count": 121,
   "metadata": {},
   "outputs": [
    {
     "output_type": "execute_result",
     "data": {
      "text/plain": [
       "'Hello from mymodb, out there!'"
      ]
     },
     "metadata": {},
     "execution_count": 121
    }
   ],
   "source": [
    "mymodb.hello('out there')"
   ]
  },
  {
   "cell_type": "markdown",
   "metadata": {},
   "source": [
    "# Importing modules from a package\n",
    "\n",
    "1. `from PACKAGE import MODULE`  In this case, `PACKAGE` is not defined as a variable, but `MODULE` is\n",
    "2. `import PACKAGE.MODULE`.  In this case, `PACKAGE` is defined as a variable, and `MODULE` is an attribute on that variable.\n",
    "3. `import PACKAGE` when there is a `__init__.py` file in the `PACKAGE` directory. In this case, `__init__.py` is executed, and is assigned the value of `__file__`. This file can define data and functions, and it can also `import` other modules... including modules in the current directory (with some syntactic assistance)."
   ]
  },
  {
   "cell_type": "code",
   "execution_count": 1,
   "metadata": {},
   "outputs": [],
   "source": [
    "import mypackage.mymoda\n",
    "import mypackage.mymodb"
   ]
  },
  {
   "cell_type": "code",
   "execution_count": 2,
   "metadata": {},
   "outputs": [
    {
     "data": {
      "text/plain": [
       "<module 'mypackage' (namespace)>"
      ]
     },
     "execution_count": 2,
     "metadata": {},
     "output_type": "execute_result"
    }
   ],
   "source": [
    "mypackage"
   ]
  },
  {
   "cell_type": "code",
   "execution_count": 3,
   "metadata": {},
   "outputs": [
    {
     "data": {
      "text/plain": [
       "'Hello from mymoda, world!'"
      ]
     },
     "execution_count": 3,
     "metadata": {},
     "output_type": "execute_result"
    }
   ],
   "source": [
    "mypackage.mymoda.hello('world')"
   ]
  },
  {
   "cell_type": "code",
   "execution_count": 4,
   "metadata": {},
   "outputs": [
    {
     "data": {
      "text/plain": [
       "'Hello from mymodb, world!'"
      ]
     },
     "execution_count": 4,
     "metadata": {},
     "output_type": "execute_result"
    }
   ],
   "source": [
    "mypackage.mymodb.hello('world')"
   ]
  },
  {
   "cell_type": "code",
   "execution_count": 5,
   "metadata": {},
   "outputs": [
    {
     "data": {
      "text/plain": [
       "['__doc__',\n",
       " '__file__',\n",
       " '__loader__',\n",
       " '__name__',\n",
       " '__package__',\n",
       " '__path__',\n",
       " '__spec__',\n",
       " 'mymoda',\n",
       " 'mymodb']"
      ]
     },
     "execution_count": 5,
     "metadata": {},
     "output_type": "execute_result"
    }
   ],
   "source": [
    "dir(mypackage)"
   ]
  },
  {
   "cell_type": "code",
   "execution_count": 6,
   "metadata": {},
   "outputs": [
    {
     "data": {
      "text/plain": [
       "'mypackage'"
      ]
     },
     "execution_count": 6,
     "metadata": {},
     "output_type": "execute_result"
    }
   ],
   "source": [
    "mypackage.__package__"
   ]
  },
  {
   "cell_type": "code",
   "execution_count": 7,
   "metadata": {},
   "outputs": [
    {
     "data": {
      "text/plain": [
       "'mypackage'"
      ]
     },
     "execution_count": 7,
     "metadata": {},
     "output_type": "execute_result"
    }
   ],
   "source": [
    "mypackage.mymoda.__package__"
   ]
  },
  {
   "cell_type": "code",
   "execution_count": 1,
   "metadata": {},
   "outputs": [
    {
     "name": "stdout",
     "output_type": "stream",
     "text": [
      "Running mypackage.__init__!\n"
     ]
    }
   ],
   "source": [
    "import mypackage.mymoda"
   ]
  },
  {
   "cell_type": "code",
   "execution_count": 2,
   "metadata": {},
   "outputs": [
    {
     "data": {
      "text/plain": [
       "['__builtins__',\n",
       " '__cached__',\n",
       " '__doc__',\n",
       " '__file__',\n",
       " '__loader__',\n",
       " '__name__',\n",
       " '__package__',\n",
       " '__path__',\n",
       " '__spec__',\n",
       " 'mymoda']"
      ]
     },
     "execution_count": 2,
     "metadata": {},
     "output_type": "execute_result"
    }
   ],
   "source": [
    "dir(mypackage)"
   ]
  },
  {
   "cell_type": "code",
   "execution_count": 3,
   "metadata": {},
   "outputs": [],
   "source": [
    "import mypackage.mymodb"
   ]
  },
  {
   "cell_type": "code",
   "execution_count": 4,
   "metadata": {},
   "outputs": [
    {
     "data": {
      "text/plain": [
       "['__builtins__',\n",
       " '__cached__',\n",
       " '__doc__',\n",
       " '__file__',\n",
       " '__loader__',\n",
       " '__name__',\n",
       " '__package__',\n",
       " '__path__',\n",
       " '__spec__',\n",
       " 'mymoda',\n",
       " 'mymodb']"
      ]
     },
     "execution_count": 4,
     "metadata": {},
     "output_type": "execute_result"
    }
   ],
   "source": [
    "dir(mypackage)"
   ]
  },
  {
   "cell_type": "code",
   "execution_count": 1,
   "metadata": {},
   "outputs": [
    {
     "name": "stdout",
     "output_type": "stream",
     "text": [
      "Running mypackage.__init__!\n"
     ]
    }
   ],
   "source": [
    "import mypackage"
   ]
  },
  {
   "cell_type": "code",
   "execution_count": 2,
   "metadata": {},
   "outputs": [
    {
     "data": {
      "text/plain": [
       "<module 'mypackage' from '/Users/reuven/Courses/Current/oreilly-first-steps-2021-apr-1/mypackage/__init__.py'>"
      ]
     },
     "execution_count": 2,
     "metadata": {},
     "output_type": "execute_result"
    }
   ],
   "source": [
    "mypackage"
   ]
  },
  {
   "cell_type": "code",
   "execution_count": 1,
   "metadata": {},
   "outputs": [
    {
     "ename": "ModuleNotFoundError",
     "evalue": "No module named 'mymoda'",
     "output_type": "error",
     "traceback": [
      "\u001b[0;31m---------------------------------------------------------------------------\u001b[0m",
      "\u001b[0;31mModuleNotFoundError\u001b[0m                       Traceback (most recent call last)",
      "\u001b[0;32m<ipython-input-1-ebee4bc62610>\u001b[0m in \u001b[0;36m<module>\u001b[0;34m\u001b[0m\n\u001b[0;32m----> 1\u001b[0;31m \u001b[0;32mimport\u001b[0m \u001b[0mmypackage\u001b[0m\u001b[0;34m\u001b[0m\u001b[0;34m\u001b[0m\u001b[0m\n\u001b[0m",
      "\u001b[0;32m~/Courses/Current/oreilly-first-steps-2021-apr-1/mypackage/__init__.py\u001b[0m in \u001b[0;36m<module>\u001b[0;34m\u001b[0m\n\u001b[0;32m----> 1\u001b[0;31m \u001b[0;32mimport\u001b[0m \u001b[0mmymoda\u001b[0m\u001b[0;34m\u001b[0m\u001b[0;34m\u001b[0m\u001b[0m\n\u001b[0m\u001b[1;32m      2\u001b[0m \u001b[0;32mimport\u001b[0m \u001b[0mmymodb\u001b[0m\u001b[0;34m\u001b[0m\u001b[0;34m\u001b[0m\u001b[0m\n\u001b[1;32m      3\u001b[0m \u001b[0;34m\u001b[0m\u001b[0m\n\u001b[1;32m      4\u001b[0m \u001b[0mprint\u001b[0m\u001b[0;34m(\u001b[0m\u001b[0;34m'Running mypackage.__init__!'\u001b[0m\u001b[0;34m)\u001b[0m\u001b[0;34m\u001b[0m\u001b[0;34m\u001b[0m\u001b[0m\n",
      "\u001b[0;31mModuleNotFoundError\u001b[0m: No module named 'mymoda'"
     ]
    }
   ],
   "source": [
    "import mypackage"
   ]
  },
  {
   "cell_type": "code",
   "execution_count": 1,
   "metadata": {},
   "outputs": [
    {
     "name": "stdout",
     "output_type": "stream",
     "text": [
      "Running mypackage.__init__!\n"
     ]
    }
   ],
   "source": [
    "\n",
    "import mypackage"
   ]
  },
  {
   "cell_type": "code",
   "execution_count": 2,
   "metadata": {},
   "outputs": [
    {
     "data": {
      "text/plain": [
       "['__builtins__',\n",
       " '__cached__',\n",
       " '__doc__',\n",
       " '__file__',\n",
       " '__loader__',\n",
       " '__name__',\n",
       " '__package__',\n",
       " '__path__',\n",
       " '__spec__',\n",
       " 'mymoda',\n",
       " 'mymodb']"
      ]
     },
     "execution_count": 2,
     "metadata": {},
     "output_type": "execute_result"
    }
   ],
   "source": [
    "dir(mypackage)"
   ]
  },
  {
   "cell_type": "code",
   "execution_count": 1,
   "metadata": {},
   "outputs": [
    {
     "name": "stdout",
     "output_type": "stream",
     "text": [
      "Running mypackage.__init__!\n"
     ]
    }
   ],
   "source": [
    "import mypackage.mymoda"
   ]
  },
  {
   "cell_type": "code",
   "execution_count": 2,
   "metadata": {},
   "outputs": [
    {
     "data": {
      "text/plain": [
       "['__builtins__',\n",
       " '__cached__',\n",
       " '__doc__',\n",
       " '__file__',\n",
       " '__loader__',\n",
       " '__name__',\n",
       " '__package__',\n",
       " '__path__',\n",
       " '__spec__',\n",
       " 'mymoda',\n",
       " 'mymodb']"
      ]
     },
     "execution_count": 2,
     "metadata": {},
     "output_type": "execute_result"
    }
   ],
   "source": [
    "dir(mypackage)"
   ]
  },
  {
   "cell_type": "markdown",
   "metadata": {},
   "source": [
    "# Exercise: Turn `menu.py` into a package\n",
    "\n",
    "1. Create a new (package) directory, `menustuff`.\n",
    "2. Put `menu.py` into `menustuff`.\n",
    "3. Make it, such that if I `import menustuff`, I have automatic access to `menustuff.menu` and thus to `menustuff.menu.menu`."
   ]
  },
  {
   "cell_type": "code",
   "execution_count": 1,
   "metadata": {},
   "outputs": [],
   "source": [
    "import menustuff"
   ]
  },
  {
   "cell_type": "code",
   "execution_count": 2,
   "metadata": {},
   "outputs": [
    {
     "ename": "AttributeError",
     "evalue": "module 'menustuff' has no attribute 'menu'",
     "output_type": "error",
     "traceback": [
      "\u001b[0;31m---------------------------------------------------------------------------\u001b[0m",
      "\u001b[0;31mAttributeError\u001b[0m                            Traceback (most recent call last)",
      "\u001b[0;32m<ipython-input-2-fb343be4c9e7>\u001b[0m in \u001b[0;36m<module>\u001b[0;34m\u001b[0m\n\u001b[0;32m----> 1\u001b[0;31m \u001b[0mmenustuff\u001b[0m\u001b[0;34m.\u001b[0m\u001b[0mmenu\u001b[0m\u001b[0;34m\u001b[0m\u001b[0;34m\u001b[0m\u001b[0m\n\u001b[0m",
      "\u001b[0;31mAttributeError\u001b[0m: module 'menustuff' has no attribute 'menu'"
     ]
    }
   ],
   "source": [
    "menustuff.menu"
   ]
  },
  {
   "cell_type": "code",
   "execution_count": 1,
   "metadata": {},
   "outputs": [],
   "source": [
    "import menustuff"
   ]
  },
  {
   "cell_type": "code",
   "execution_count": 2,
   "metadata": {},
   "outputs": [
    {
     "data": {
      "text/plain": [
       "['__builtins__',\n",
       " '__cached__',\n",
       " '__doc__',\n",
       " '__file__',\n",
       " '__loader__',\n",
       " '__name__',\n",
       " '__package__',\n",
       " '__path__',\n",
       " '__spec__',\n",
       " 'menu']"
      ]
     },
     "execution_count": 2,
     "metadata": {},
     "output_type": "execute_result"
    }
   ],
   "source": [
    "dir(menustuff)"
   ]
  },
  {
   "cell_type": "code",
   "execution_count": 3,
   "metadata": {},
   "outputs": [
    {
     "name": "stdout",
     "output_type": "stream",
     "text": [
      "Enter your choice (a/b/c): d\n",
      "Hey! d was not in args!\n",
      "Enter your choice (a/b/c): c\n"
     ]
    },
    {
     "data": {
      "text/plain": [
       "'c'"
      ]
     },
     "execution_count": 3,
     "metadata": {},
     "output_type": "execute_result"
    }
   ],
   "source": [
    "menustuff.menu.menu('a', 'b', 'c')"
   ]
  },
  {
   "cell_type": "code",
   "execution_count": 1,
   "metadata": {},
   "outputs": [],
   "source": [
    "import menustuff"
   ]
  },
  {
   "cell_type": "code",
   "execution_count": 3,
   "metadata": {},
   "outputs": [
    {
     "name": "stdout",
     "output_type": "stream",
     "text": [
      "Enter your choice (a/b/c): a\n"
     ]
    },
    {
     "data": {
      "text/plain": [
       "'a'"
      ]
     },
     "execution_count": 3,
     "metadata": {},
     "output_type": "execute_result"
    }
   ],
   "source": [
    "menustuff.menu('a', 'b', 'c')"
   ]
  },
  {
   "cell_type": "code",
   "execution_count": 8,
   "metadata": {},
   "outputs": [
    {
     "data": {
      "text/plain": [
       "49.85682"
      ]
     },
     "execution_count": 8,
     "metadata": {},
     "output_type": "execute_result"
    }
   ],
   "source": [
    "import random\n",
    "\n",
    "random.seed(0) # seed the random-number system \n",
    "numbers = []   # create an empty list\n",
    "\n",
    "for i in range(100000):\n",
    "    numbers.append(random.randint(0, 100))\n",
    "    \n",
    "sum(numbers) / len(numbers)"
   ]
  },
  {
   "cell_type": "code",
   "execution_count": 9,
   "metadata": {},
   "outputs": [],
   "source": [
    "from collections import Counter"
   ]
  },
  {
   "cell_type": "code",
   "execution_count": 10,
   "metadata": {},
   "outputs": [
    {
     "data": {
      "text/plain": [
       "[(45, 1060),\n",
       " (24, 1059),\n",
       " (94, 1056),\n",
       " (30, 1055),\n",
       " (73, 1048),\n",
       " (49, 1046),\n",
       " (5, 1046),\n",
       " (17, 1045),\n",
       " (90, 1037),\n",
       " (78, 1035)]"
      ]
     },
     "execution_count": 10,
     "metadata": {},
     "output_type": "execute_result"
    }
   ],
   "source": [
    "Counter(numbers).most_common(10)"
   ]
  },
  {
   "cell_type": "markdown",
   "metadata": {},
   "source": [
    " # Exercise: Using \"rich\"\n",
    " \n",
    " 1. Install `rich` using `pip`\n",
    " 2. Write a short program that uses `rich` to ask the user for the name, and then prints the name in blue.\n",
    " \n",
    " Hint:\n",
    " \n",
    " If you use `rich.print` as a function, you can then add `[blue]` and `[/blue]` in the string, and the portion between those will be in blue."
   ]
  },
  {
   "cell_type": "code",
   "execution_count": null,
   "metadata": {},
   "outputs": [],
   "source": [
    "myfunction('first', 'last')"
   ]
  }
 ],
 "metadata": {
  "kernelspec": {
   "name": "python392jvsc74a57bd0802cde5e448a43975b2779f144174dffeee4c278435bf8070e80b22caba50b15",
   "display_name": "Python 3.9.2 64-bit ('rueven')"
  },
  "language_info": {
   "codemirror_mode": {
    "name": "ipython",
    "version": 3
   },
   "file_extension": ".py",
   "mimetype": "text/x-python",
   "name": "python",
   "nbconvert_exporter": "python",
   "pygments_lexer": "ipython3",
   "version": "3.9.2-final"
  },
  "metadata": {
   "interpreter": {
    "hash": "802cde5e448a43975b2779f144174dffeee4c278435bf8070e80b22caba50b15"
   }
  }
 },
 "nbformat": 4,
 "nbformat_minor": 4
}