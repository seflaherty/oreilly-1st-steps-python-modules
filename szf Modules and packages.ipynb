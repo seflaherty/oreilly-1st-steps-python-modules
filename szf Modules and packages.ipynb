{
 "cells": [
  {
   "cell_type": "markdown",
   "metadata": {},
   "source": [
    "# Agenda\n",
    "\n",
    "1. What are modules?\n",
    "2. How do we `import` from a module into Python?\n",
    "3. Different types of imports\n",
    "4. Creating our own modules\n",
    "5. Python standard library\n",
    "6. Packages vs. modules\n",
    "7. PyPI and installing things\n",
    "8. `pip`"
   ]
  },
  {
   "cell_type": "code",
   "execution_count": 1,
   "metadata": {},
   "outputs": [],
   "source": [
    "# DRY -- don't repeat yourself\n",
    "import random"
   ]
  },
  {
   "cell_type": "code",
   "execution_count": 2,
   "metadata": {},
   "outputs": [
    {
     "output_type": "stream",
     "name": "stdout",
     "text": [
      "49\n97\n53\n"
     ]
    }
   ],
   "source": [
    "random.seed(0)\n",
    "for i in range(3):\n",
    "    print(random.randint(0, 100))"
   ]
  },
  {
   "cell_type": "code",
   "execution_count": 2,
   "metadata": {},
   "outputs": [],
   "source": [
    "import sys"
   ]
  },
  {
   "cell_type": "code",
   "execution_count": 3,
   "metadata": {},
   "outputs": [
    {
     "output_type": "execute_result",
     "data": {
      "text/plain": [
       "'3.9.2 (default, Apr  2 2021, 14:12:18) \\n[Clang 12.0.0 (clang-1200.0.32.29)]'"
      ]
     },
     "metadata": {},
     "execution_count": 3
    }
   ],
   "source": [
    "sys.version"
   ]
  },
  {
   "cell_type": "code",
   "execution_count": 3,
   "metadata": {},
   "outputs": [
    {
     "output_type": "stream",
     "name": "stdout",
     "text": [
      "Python 3.9.2\n"
     ]
    }
   ],
   "source": [
    "!python --version"
   ]
  },
  {
   "cell_type": "code",
   "execution_count": 4,
   "metadata": {},
   "outputs": [
    {
     "output_type": "stream",
     "name": "stdout",
     "text": [
      "Package          Version\n---------------- -------\nappnope          0.1.2\nbackcall         0.2.0\ndecorator        5.0.5\nipykernel        5.5.3\nipython          7.22.0\nipython-genutils 0.2.0\njedi             0.18.0\njupyter-client   6.1.12\njupyter-core     4.7.1\nparso            0.8.2\npexpect          4.8.0\npickleshare      0.7.5\npip              21.0.1\nprompt-toolkit   3.0.18\nptyprocess       0.7.0\nPygments         2.8.1\npython-dateutil  2.8.1\npyzmq            22.0.3\nsetuptools       54.1.2\nsix              1.15.0\ntornado          6.1\ntraitlets        5.0.5\nwcwidth          0.2.5\nwheel            0.36.2\n"
     ]
    }
   ],
   "source": [
    "!pip list"
   ]
  },
  {
   "cell_type": "code",
   "execution_count": 5,
   "metadata": {},
   "outputs": [],
   "source": [
    "# Already done\n",
    "import random"
   ]
  },
  {
   "cell_type": "code",
   "execution_count": 6,
   "metadata": {},
   "outputs": [],
   "source": [
    "random.seed(0) # seed the random number system\n",
    "numbers = [] # create empty list\n",
    "\n",
    "for i in range(1000): \n",
    "    numbers.append(random.randint(0, 100))"
   ]
  },
  {
   "cell_type": "code",
   "execution_count": 7,
   "metadata": {},
   "outputs": [
    {
     "output_type": "stream",
     "name": "stdout",
     "text": [
      "For 1000 random number count, we have seeded a mean of 48.697.\n"
     ]
    }
   ],
   "source": [
    "from statistics import mean\n",
    "print(f'For {len(numbers)} random number count, we have seeded a mean of {mean(numbers)}.')"
   ]
  },
  {
   "cell_type": "code",
   "execution_count": 8,
   "metadata": {},
   "outputs": [
    {
     "output_type": "execute_result",
     "data": {
      "text/plain": [
       "48.697"
      ]
     },
     "metadata": {},
     "execution_count": 8
    }
   ],
   "source": [
    "sum(numbers) / len(numbers) # See also this simple average"
   ]
  },
  {
   "cell_type": "code",
   "execution_count": 9,
   "metadata": {},
   "outputs": [],
   "source": [
    "# sys -- I am loaded autmatically, but U have to import me to use me\n",
    "import sys"
   ]
  },
  {
   "cell_type": "code",
   "execution_count": 10,
   "metadata": {},
   "outputs": [
    {
     "output_type": "execute_result",
     "data": {
      "text/plain": [
       "['/Users/sean/Documents/GitHub/oreilly-1st-steps-python-modules',\n",
       " '/Users/sean/.vscode/extensions/ms-toolsai.jupyter-2021.5.702919634/pythonFiles',\n",
       " '/Users/sean/.vscode/extensions/ms-toolsai.jupyter-2021.5.702919634/pythonFiles',\n",
       " '/Users/sean/.vscode/extensions/ms-toolsai.jupyter-2021.5.702919634/pythonFiles/lib/python',\n",
       " '/Users/sean/.pyenv/versions/3.9.2/lib/python39.zip',\n",
       " '/Users/sean/.pyenv/versions/3.9.2/lib/python3.9',\n",
       " '/Users/sean/.pyenv/versions/3.9.2/lib/python3.9/lib-dynload',\n",
       " '',\n",
       " '/Users/sean/.pyenv/versions/rueven/lib/python3.9/site-packages',\n",
       " '/Users/sean/.pyenv/versions/rueven/lib/python3.9/site-packages/IPython/extensions',\n",
       " '/Users/sean/.ipython']"
      ]
     },
     "metadata": {},
     "execution_count": 10
    }
   ],
   "source": [
    "sys.path"
   ]
  },
  {
   "cell_type": "code",
   "execution_count": 24,
   "metadata": {},
   "outputs": [],
   "source": [
    "# I just created a \"nothing\" file using subl\n",
    "import szfmod"
   ]
  },
  {
   "cell_type": "code",
   "execution_count": 25,
   "metadata": {},
   "outputs": [
    {
     "output_type": "execute_result",
     "data": {
      "text/plain": [
       "['__builtins__',\n",
       " '__cached__',\n",
       " '__doc__',\n",
       " '__file__',\n",
       " '__loader__',\n",
       " '__name__',\n",
       " '__package__',\n",
       " '__spec__',\n",
       " 'list_of_testing',\n",
       " 'solution']"
      ]
     },
     "metadata": {},
     "execution_count": 25
    }
   ],
   "source": [
    "# And it already has __smth__ attached to it\n",
    "dir(szfmod)"
   ]
  },
  {
   "cell_type": "code",
   "execution_count": 26,
   "metadata": {},
   "outputs": [
    {
     "output_type": "execute_result",
     "data": {
      "text/plain": [
       "<module 'szfmod' from '/Users/sean/Documents/GitHub/oreilly-1st-steps-python-modules/szfmod.py'>"
      ]
     },
     "metadata": {},
     "execution_count": 26
    }
   ],
   "source": [
    "szfmod"
   ]
  },
  {
   "cell_type": "code",
   "execution_count": 27,
   "metadata": {},
   "outputs": [
    {
     "output_type": "execute_result",
     "data": {
      "text/plain": [
       "<module 'mymod' from '/Users/sean/Documents/GitHub/oreilly-1st-steps-python-modules/mymod.py'>"
      ]
     },
     "metadata": {},
     "execution_count": 27
    }
   ],
   "source": [
    "# Exercise: Defining a Simple Module\n",
    "import importlib\n",
    "importlib.reload(mymod)"
   ]
  },
  {
   "cell_type": "code",
   "execution_count": 28,
   "metadata": {},
   "outputs": [
    {
     "output_type": "execute_result",
     "data": {
      "text/plain": [
       "'/Users/sean/Documents/GitHub/oreilly-1st-steps-python-modules'"
      ]
     },
     "metadata": {},
     "execution_count": 28
    }
   ],
   "source": [
    "%pwd"
   ]
  },
  {
   "cell_type": "code",
   "execution_count": 29,
   "metadata": {},
   "outputs": [
    {
     "output_type": "execute_result",
     "data": {
      "text/plain": [
       "['__builtins__',\n",
       " '__cached__',\n",
       " '__doc__',\n",
       " '__file__',\n",
       " '__loader__',\n",
       " '__name__',\n",
       " '__package__',\n",
       " '__spec__',\n",
       " 'list_of_testing',\n",
       " 'solution']"
      ]
     },
     "metadata": {},
     "execution_count": 29
    }
   ],
   "source": [
    "dir(szfmod)"
   ]
  },
  {
   "cell_type": "code",
   "execution_count": 31,
   "metadata": {},
   "outputs": [
    {
     "output_type": "stream",
     "name": "stdout",
     "text": [
      "7\n"
     ]
    }
   ],
   "source": [
    "# Module 'szfmod' sets up a list and a function. Below, feed the list into the function!\n",
    "print(szfmod.solution(szfmod.list_of_testing))"
   ]
  },
  {
   "cell_type": "code",
   "execution_count": 33,
   "metadata": {},
   "outputs": [
    {
     "output_type": "stream",
     "name": "stdout",
     "text": [
      "Help on module szfmod:\n\nNAME\n    szfmod - My module that is purposed to learn about modules!\n\nDESCRIPTION\n    🆒\n\nFUNCTIONS\n    solution(A)\n        From incoming array of INTs, return the first lowest positive INT not included in the array.\n\nDATA\n    list_of_testing = [6, 5, 3, 1, 2, 4, 8, 6]\n\nFILE\n    /Users/sean/Documents/GitHub/oreilly-1st-steps-python-modules/szfmod.py\n\n\n"
     ]
    }
   ],
   "source": [
    "help(szfmod)"
   ]
  },
  {
   "cell_type": "code",
   "execution_count": 35,
   "metadata": {},
   "outputs": [
    {
     "output_type": "execute_result",
     "data": {
      "text/plain": [
       "<module 'szfmod' from '/Users/sean/Documents/GitHub/oreilly-1st-steps-python-modules/szfmod.py'>"
      ]
     },
     "metadata": {},
     "execution_count": 35
    }
   ],
   "source": [
    "# Lets define a proper docstring for `mymod`\n",
    "importlib.reload(szfmod)"
   ]
  },
  {
   "cell_type": "code",
   "execution_count": 36,
   "metadata": {},
   "outputs": [
    {
     "output_type": "stream",
     "name": "stdout",
     "text": [
      "Help on module szfmod:\n\nNAME\n    szfmod - My module that is purposed to learn about modules!\n\nDESCRIPTION\n    🆒\n\nFUNCTIONS\n    solution(A)\n        From incoming array of INTs, return the first lowest positive INT not included in the array.\n\nDATA\n    list_of_testing = [6, 5, 3, 1, 2, 4, 8, 6]\n\nFILE\n    /Users/sean/Documents/GitHub/oreilly-1st-steps-python-modules/szfmod.py\n\n\n"
     ]
    }
   ],
   "source": [
    "help(szfmod)"
   ]
  },
  {
   "source": [
    "%python -m pip install rich"
   ],
   "cell_type": "markdown",
   "metadata": {}
  },
  {
   "cell_type": "code",
   "execution_count": 38,
   "metadata": {},
   "outputs": [],
   "source": [
    "from rich import print as rp"
   ]
  },
  {
   "cell_type": "code",
   "execution_count": 42,
   "metadata": {},
   "outputs": [],
   "source": [
    "def announcement(name, activity):\n",
    "    return rp(f'Hello [bold purple]{name}[/bold purple], it\\'s time to [bold green]{activity}[/bold green]!')"
   ]
  },
  {
   "cell_type": "code",
   "execution_count": 43,
   "metadata": {},
   "outputs": [
    {
     "output_type": "display_data",
     "data": {
      "text/plain": "Hello \u001b[1;38;5;129mpikachu\u001b[0m, it's time to \u001b[1;32mparty\u001b[0m!\n",
      "text/html": "<pre style=\"white-space:pre;overflow-x:auto;line-height:normal;font-family:Menlo,'DejaVu Sans Mono',consolas,'Courier New',monospace\">Hello <span style=\"color: #af00ff; text-decoration-color: #af00ff; font-weight: bold\">pikachu</span>, it's time to <span style=\"color: #008000; text-decoration-color: #008000; font-weight: bold\">party</span>!\n</pre>\n"
     },
     "metadata": {}
    }
   ],
   "source": [
    "announcement(\"pikachu\", \"party\")"
   ]
  },
  {
   "cell_type": "code",
   "execution_count": null,
   "metadata": {},
   "outputs": [],
   "source": [
    "# https://awesome-python.com"
   ]
  }
 ],
 "metadata": {
  "kernelspec": {
   "name": "python392jvsc74a57bd0802cde5e448a43975b2779f144174dffeee4c278435bf8070e80b22caba50b15",
   "display_name": "Python 3.9.2 64-bit ('rueven')"
  },
  "language_info": {
   "codemirror_mode": {
    "name": "ipython",
    "version": 3
   },
   "file_extension": ".py",
   "mimetype": "text/x-python",
   "name": "python",
   "nbconvert_exporter": "python",
   "pygments_lexer": "ipython3",
   "version": "3.9.2-final"
  },
  "toc-autonumbering": false,
  "toc-showcode": false,
  "toc-showmarkdowntxt": true
 },
 "nbformat": 4,
 "nbformat_minor": 4
}