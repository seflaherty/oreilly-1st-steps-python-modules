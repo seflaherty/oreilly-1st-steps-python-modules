{
 "cells": [
  {
   "cell_type": "markdown",
   "metadata": {},
   "source": [
    "# Agenda\n",
    "\n",
    "1. What are modules?\n",
    "2. How do we `import` from a module into Python?\n",
    "3. Different types of imports\n",
    "4. Creating our own modules\n",
    "5. Python standard library\n",
    "6. Packages vs. modules\n",
    "7. PyPI and installing things\n",
    "8. `pip`"
   ]
  },
  {
   "cell_type": "code",
   "execution_count": 104,
   "metadata": {},
   "outputs": [],
   "source": [
    "# DRY -- don't repeat yourself\n",
    "import random"
   ]
  },
  {
   "cell_type": "code",
   "execution_count": 105,
   "metadata": {},
   "outputs": [
    {
     "output_type": "stream",
     "name": "stdout",
     "text": [
      "49\n97\n53\n"
     ]
    }
   ],
   "source": [
    "random.seed(0)\n",
    "for i in range(3):\n",
    "    print(random.randint(0, 100))"
   ]
  },
  {
   "cell_type": "code",
   "execution_count": 106,
   "metadata": {},
   "outputs": [],
   "source": [
    "import sys"
   ]
  },
  {
   "cell_type": "code",
   "execution_count": 107,
   "metadata": {},
   "outputs": [
    {
     "output_type": "execute_result",
     "data": {
      "text/plain": [
       "'3.9.2 (default, Apr  2 2021, 14:12:18) \\n[Clang 12.0.0 (clang-1200.0.32.29)]'"
      ]
     },
     "metadata": {},
     "execution_count": 107
    }
   ],
   "source": [
    "sys.version"
   ]
  },
  {
   "cell_type": "code",
   "execution_count": 108,
   "metadata": {},
   "outputs": [
    {
     "output_type": "stream",
     "name": "stdout",
     "text": [
      "Python 3.9.2\n"
     ]
    }
   ],
   "source": [
    "!python --version"
   ]
  },
  {
   "cell_type": "code",
   "execution_count": 109,
   "metadata": {},
   "outputs": [
    {
     "output_type": "stream",
     "name": "stdout",
     "text": [
      "Package               Version\n--------------------- ---------\naccess                1.1.3\naffine                2.3.0\namply                 0.1.4\nanyio                 2.2.0\nappnope               0.1.2\nargon2-cffi           20.1.0\nasync-generator       1.10\nattrs                 20.3.0\nBabel                 2.9.0\nbackcall              0.2.0\nbeautifulsoup4        4.9.3\nbleach                3.3.0\nblis                  0.7.4\ncatalogue             2.0.3\ncertifi               2020.12.5\ncffi                  1.14.5\nchardet               4.0.0\nclick                 7.1.2\nclick-plugins         1.1.1\ncligj                 0.7.1\ncolorama              0.4.4\ncommonmark            0.9.1\ncoverage              5.5\ncycler                0.10.0\ncymem                 2.0.5\ndecorator             4.4.2\ndefusedxml            0.7.1\ndeprecation           2.1.0\ndescartes             1.1.0\ndocutils              0.17\nen-core-web-md        3.0.0\nentrypoints           0.3\nesda                  2.3.6\nFiona                 1.8.19\ngeopandas             0.9.0\ngiddy                 2.3.3\ngraphviz              0.16\nidna                  2.10\nimageio               2.9.0\ninequality            1.0.0\niniconfig             1.1.1\nipykernel             5.5.3\nipython               7.22.0\nipython-genutils      0.2.0\njedi                  0.18.0\nJinja2                2.11.3\njoblib                1.0.1\njson5                 0.9.5\njsonschema            3.2.0\njupyter-client        6.1.12\njupyter-core          4.7.1\njupyter-packaging     0.9.1\njupyter-server        1.6.1\njupyterlab            3.0.14\njupyterlab-pygments   0.1.2\njupyterlab-server     2.4.0\nkiwisolver            1.3.1\nlibpysal              4.4.0\nllvmlite              0.36.0\nmapclassify           2.4.2\nMarkupSafe            1.1.1\nmatplotlib            3.4.1\nmgwr                  2.1.2\nmistune               0.8.4\nmpmath                1.2.1\nmunch                 2.5.0\nmurmurhash            1.0.5\nnbclassic             0.2.7\nnbclient              0.5.3\nnbconvert             6.0.7\nnbformat              5.1.3\nnest-asyncio          1.5.1\nnetworkx              2.5.1\nnltk                  3.6.2\nnotebook              6.3.0\nnumba                 0.53.1\nnumpy                 1.20.2\nopencv-contrib-python 4.5.1.48\npackaging             20.9\npandas                1.2.4\npandocfilters         1.4.3\nparso                 0.8.2\npathy                 0.5.2\npatsy                 0.5.1\npexpect               4.8.0\npickleshare           0.7.5\nPillow                8.2.0\npip                   21.1\npip-review            1.1.0\npluggy                0.13.1\npointpats             2.2.0\npreshed               3.0.5\nprometheus-client     0.10.1\nprompt-toolkit        3.0.18\nptyprocess            0.7.0\nPuLP                  2.4\npy                    1.10.0\npycparser             2.20\npydantic              1.7.3\npydotplus             2.0.2\npygeos                0.9\nPygments              2.8.1\npyparsing             2.4.7\npyproj                3.0.1\npyrsistent            0.17.3\npysal                 2.4.0\npytest                6.2.3\npytest-cov            2.11.1\npython-dateutil       2.8.0\npytz                  2021.1\npyzmq                 22.0.3\nquantecon             0.4.8\nrasterio              1.2.2\nrasterstats           0.15.0\nregex                 2021.4.4\nrequests              2.25.1\nrich                  10.1.0\nRtree                 0.9.7\nscikit-learn          0.24.1\nscipy                 1.6.2\nseaborn               0.11.1\nsegregation           1.5.0\nSend2Trash            1.5.0\nsetuptools            54.1.2\nShapely               1.7.1\nsimplejson            3.17.2\nsix                   1.15.0\nsklearn               0.0\nsmart-open            3.0.0\nsniffio               1.2.0\nsnuggs                1.4.7\nsoupsieve             2.2.1\nspacy                 3.0.6\nspacy-legacy          3.0.5\nspaghetti             1.5.6\nspglm                 1.0.8\nspint                 1.0.7\nsplot                 1.1.3\nspopt                 0.1.1\nspreg                 1.2.2\nspvcm                 0.3.0\nsrsly                 2.4.1\nstatsmodels           0.12.2\nsympy                 1.8\nterminado             0.9.4\ntestpath              0.4.4\ntextblob              0.15.3\nthinc                 8.0.3\nthreadpoolctl         2.1.0\ntobler                0.7.0\ntoml                  0.10.2\ntomlkit               0.7.0\ntornado               6.1\ntqdm                  4.60.0\ntraitlets             5.0.5\ntyper                 0.3.2\ntyping-extensions     3.7.4.3\nubiops                3.2.0\nurllib3               1.26.4\nwasabi                0.8.2\nwcwidth               0.2.5\nwebencodings          0.5.1\nwheel                 0.36.2\nwordcloud             1.8.1\nxgboost               1.4.0\n\u001b[33mWARNING: You are using pip version 21.1; however, version 21.1.2 is available.\nYou should consider upgrading via the '/Users/sean/.pyenv/versions/rueven/bin/python -m pip install --upgrade pip' command.\u001b[0m\n"
     ]
    }
   ],
   "source": [
    "!pip list"
   ]
  },
  {
   "cell_type": "code",
   "execution_count": 110,
   "metadata": {},
   "outputs": [],
   "source": [
    "# Already done\n",
    "import random"
   ]
  },
  {
   "cell_type": "code",
   "execution_count": 111,
   "metadata": {},
   "outputs": [],
   "source": [
    "random.seed(0) # seed the random number system\n",
    "numbers = [] # create empty list\n",
    "\n",
    "for i in range(1000): \n",
    "    numbers.append(random.randint(0, 100))"
   ]
  },
  {
   "cell_type": "code",
   "execution_count": 112,
   "metadata": {},
   "outputs": [
    {
     "output_type": "stream",
     "name": "stdout",
     "text": [
      "For 1000 random number count, we have seeded a mean of 48.697.\n"
     ]
    }
   ],
   "source": [
    "from statistics import mean\n",
    "print(f'For {len(numbers)} random number count, we have seeded a mean of {mean(numbers)}.')"
   ]
  },
  {
   "cell_type": "code",
   "execution_count": 113,
   "metadata": {},
   "outputs": [
    {
     "output_type": "execute_result",
     "data": {
      "text/plain": [
       "48.697"
      ]
     },
     "metadata": {},
     "execution_count": 113
    }
   ],
   "source": [
    "sum(numbers) / len(numbers) # See also this simple average"
   ]
  },
  {
   "cell_type": "code",
   "execution_count": 114,
   "metadata": {},
   "outputs": [],
   "source": [
    "# sys -- I am loaded autmatically, but __you have to import me to use me__\n",
    "import sys"
   ]
  },
  {
   "cell_type": "code",
   "execution_count": 115,
   "metadata": {},
   "outputs": [
    {
     "output_type": "execute_result",
     "data": {
      "text/plain": [
       "['/Users/sean/Documents/GitHub/oreilly-1st-steps-python-modules',\n",
       " '/Users/sean/.vscode/extensions/ms-toolsai.jupyter-2021.6.832593372/pythonFiles',\n",
       " '/Users/sean/.vscode/extensions/ms-toolsai.jupyter-2021.6.832593372/pythonFiles/lib/python',\n",
       " '/Users/sean/.pyenv/versions/3.9.2/lib/python39.zip',\n",
       " '/Users/sean/.pyenv/versions/3.9.2/lib/python3.9',\n",
       " '/Users/sean/.pyenv/versions/3.9.2/lib/python3.9/lib-dynload',\n",
       " '',\n",
       " '/Users/sean/.pyenv/versions/rueven/lib/python3.9/site-packages',\n",
       " '/Users/sean/.pyenv/versions/rueven/lib/python3.9/site-packages/IPython/extensions',\n",
       " '/Users/sean/.ipython']"
      ]
     },
     "metadata": {},
     "execution_count": 115
    }
   ],
   "source": [
    "sys.path"
   ]
  },
  {
   "cell_type": "code",
   "execution_count": 116,
   "metadata": {},
   "outputs": [],
   "source": [
    "# I just created a \"nothing\" file using subl\n",
    "import szfmod"
   ]
  },
  {
   "cell_type": "code",
   "execution_count": 117,
   "metadata": {},
   "outputs": [
    {
     "output_type": "execute_result",
     "data": {
      "text/plain": [
       "['__builtins__',\n",
       " '__cached__',\n",
       " '__doc__',\n",
       " '__file__',\n",
       " '__loader__',\n",
       " '__name__',\n",
       " '__package__',\n",
       " '__spec__',\n",
       " 'list_of_testing',\n",
       " 'solution']"
      ]
     },
     "metadata": {},
     "execution_count": 117
    }
   ],
   "source": [
    "# And it already has __smth__ attached to it\n",
    "dir(szfmod)"
   ]
  },
  {
   "cell_type": "code",
   "execution_count": 118,
   "metadata": {},
   "outputs": [
    {
     "output_type": "execute_result",
     "data": {
      "text/plain": [
       "<module 'szfmod' from '/Users/sean/Documents/GitHub/oreilly-1st-steps-python-modules/szfmod.py'>"
      ]
     },
     "metadata": {},
     "execution_count": 118
    }
   ],
   "source": [
    "szfmod"
   ]
  },
  {
   "cell_type": "code",
   "execution_count": 119,
   "metadata": {},
   "outputs": [
    {
     "output_type": "execute_result",
     "data": {
      "text/plain": [
       "<module 'szfmod' from '/Users/sean/Documents/GitHub/oreilly-1st-steps-python-modules/szfmod.py'>"
      ]
     },
     "metadata": {},
     "execution_count": 119
    }
   ],
   "source": [
    "# Exercise: Defining a Simple Module\n",
    "import importlib\n",
    "importlib.reload(szfmod)"
   ]
  },
  {
   "cell_type": "code",
   "execution_count": 120,
   "metadata": {},
   "outputs": [
    {
     "output_type": "execute_result",
     "data": {
      "text/plain": [
       "'/Users/sean/Documents/GitHub/oreilly-1st-steps-python-modules'"
      ]
     },
     "metadata": {},
     "execution_count": 120
    }
   ],
   "source": [
    "%pwd"
   ]
  },
  {
   "cell_type": "code",
   "execution_count": 121,
   "metadata": {},
   "outputs": [
    {
     "output_type": "execute_result",
     "data": {
      "text/plain": [
       "['__builtins__',\n",
       " '__cached__',\n",
       " '__doc__',\n",
       " '__file__',\n",
       " '__loader__',\n",
       " '__name__',\n",
       " '__package__',\n",
       " '__spec__',\n",
       " 'list_of_testing',\n",
       " 'solution']"
      ]
     },
     "metadata": {},
     "execution_count": 121
    }
   ],
   "source": [
    "dir(szfmod)"
   ]
  },
  {
   "cell_type": "code",
   "execution_count": 122,
   "metadata": {},
   "outputs": [
    {
     "output_type": "stream",
     "name": "stdout",
     "text": [
      "7\n"
     ]
    }
   ],
   "source": [
    "# Module 'szfmod' sets up a list and a function. Below, feed the list into the function!\n",
    "print(szfmod.solution(szfmod.list_of_testing))"
   ]
  },
  {
   "cell_type": "code",
   "execution_count": 123,
   "metadata": {},
   "outputs": [
    {
     "output_type": "stream",
     "name": "stdout",
     "text": [
      "Help on module szfmod:\n\nNAME\n    szfmod - My module that is purposed to learn about modules!\n\nDESCRIPTION\n    🆒\n\nFUNCTIONS\n    solution(A)\n        From incoming array of INTs, return the first lowest positive INT not included in the array.\n\nDATA\n    list_of_testing = [6, 5, 3, 1, 2, 4, 8, 6]\n\nFILE\n    /Users/sean/Documents/GitHub/oreilly-1st-steps-python-modules/szfmod.py\n\n\n"
     ]
    }
   ],
   "source": [
    "help(szfmod)"
   ]
  },
  {
   "cell_type": "code",
   "execution_count": 124,
   "metadata": {},
   "outputs": [
    {
     "output_type": "execute_result",
     "data": {
      "text/plain": [
       "<module 'szfmod' from '/Users/sean/Documents/GitHub/oreilly-1st-steps-python-modules/szfmod.py'>"
      ]
     },
     "metadata": {},
     "execution_count": 124
    }
   ],
   "source": [
    "# Lets define a proper docstring for `mymod`\n",
    "importlib.reload(szfmod)"
   ]
  },
  {
   "cell_type": "code",
   "execution_count": 125,
   "metadata": {},
   "outputs": [
    {
     "output_type": "stream",
     "name": "stdout",
     "text": [
      "Help on module szfmod:\n\nNAME\n    szfmod - My module that is purposed to learn about modules!\n\nDESCRIPTION\n    🆒\n\nFUNCTIONS\n    solution(A)\n        From incoming array of INTs, return the first lowest positive INT not included in the array.\n\nDATA\n    list_of_testing = [6, 5, 3, 1, 2, 4, 8, 6]\n\nFILE\n    /Users/sean/Documents/GitHub/oreilly-1st-steps-python-modules/szfmod.py\n\n\n"
     ]
    }
   ],
   "source": [
    "help(szfmod)"
   ]
  },
  {
   "cell_type": "code",
   "execution_count": 126,
   "metadata": {},
   "outputs": [
    {
     "output_type": "stream",
     "name": "stdout",
     "text": [
      "3\n"
     ]
    }
   ],
   "source": [
    "print(szfmod.solution([1,2,4,5,6,8]))"
   ]
  },
  {
   "source": [
    "__Jazz-up the output cells__  \n",
    "%python -m pip install rich"
   ],
   "cell_type": "markdown",
   "metadata": {}
  },
  {
   "cell_type": "code",
   "execution_count": 127,
   "metadata": {},
   "outputs": [],
   "source": [
    "from rich import print as rp"
   ]
  },
  {
   "cell_type": "code",
   "execution_count": 128,
   "metadata": {},
   "outputs": [],
   "source": [
    "def announcement(name, activity):\n",
    "    return rp(f'Hello [bold purple]{name}[/bold purple], it\\'s time to [bold green]{activity}[/bold green]!')"
   ]
  },
  {
   "cell_type": "code",
   "execution_count": 129,
   "metadata": {},
   "outputs": [
    {
     "output_type": "display_data",
     "data": {
      "text/plain": "Hello \u001b[1;38;5;129mpikachu\u001b[0m, it's time to \u001b[1;32mparty\u001b[0m!\n",
      "text/html": "<pre style=\"white-space:pre;overflow-x:auto;line-height:normal;font-family:Menlo,'DejaVu Sans Mono',consolas,'Courier New',monospace\">Hello <span style=\"color: #af00ff; text-decoration-color: #af00ff; font-weight: bold\">pikachu</span>, it's time to <span style=\"color: #008000; text-decoration-color: #008000; font-weight: bold\">party</span>!\n</pre>\n"
     },
     "metadata": {}
    }
   ],
   "source": [
    "announcement(\"pikachu\", \"party\")"
   ]
  },
  {
   "cell_type": "code",
   "execution_count": 130,
   "metadata": {},
   "outputs": [],
   "source": [
    "# https://awesome-python.com"
   ]
  }
 ],
 "metadata": {
  "kernelspec": {
   "name": "python392jvsc74a57bd0802cde5e448a43975b2779f144174dffeee4c278435bf8070e80b22caba50b15",
   "display_name": "Python 3.9.2 64-bit ('rueven')"
  },
  "language_info": {
   "codemirror_mode": {
    "name": "ipython",
    "version": 3
   },
   "file_extension": ".py",
   "mimetype": "text/x-python",
   "name": "python",
   "nbconvert_exporter": "python",
   "pygments_lexer": "ipython3",
   "version": "3.9.2"
  },
  "toc-autonumbering": false,
  "toc-showcode": false,
  "toc-showmarkdowntxt": true
 },
 "nbformat": 4,
 "nbformat_minor": 4
}